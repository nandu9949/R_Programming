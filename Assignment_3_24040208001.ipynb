{
  "nbformat": 4,
  "nbformat_minor": 0,
  "metadata": {
    "colab": {
      "provenance": []
    },
    "kernelspec": {
      "name": "ir",
      "display_name": "R"
    },
    "language_info": {
      "name": "R"
    }
  },
  "cells": [
    {
      "cell_type": "markdown",
      "source": [
        "\n",
        "# Name  : Nanda Vardhan Reddy\n",
        "# Redg No: 24040208001"
      ],
      "metadata": {
        "id": "NoPCWmfqR7Nf"
      }
    },
    {
      "cell_type": "markdown",
      "source": [
        "\n",
        "\n",
        "\n",
        "\n",
        "\n",
        "# Basic Operations\n"
      ],
      "metadata": {
        "id": "2TsYh0-vVKrf"
      }
    },
    {
      "cell_type": "markdown",
      "source": [
        "#### c() – Create a vector (a list of items)"
      ],
      "metadata": {
        "id": "B9jbi2X6WzaI"
      }
    },
    {
      "cell_type": "code",
      "execution_count": 10,
      "metadata": {
        "id": "zEmm-j1m_VvH",
        "colab": {
          "base_uri": "https://localhost:8080/"
        },
        "outputId": "5068b7b7-21c6-4afb-c2e2-80cd4f92213f"
      },
      "outputs": [
        {
          "output_type": "stream",
          "name": "stdout",
          "text": [
            "[1] 10 20 30 40\n",
            "[1] \"red\"   \"blue\"  \"green\"\n",
            "[1] FALSE  TRUE FALSE\n",
            "[1] \"5\"     \"world\" \"FALSE\"\n"
          ]
        }
      ],
      "source": [
        "vec_num2 <- c(10, 20, 30, 40)\n",
        "print(vec_num2)\n",
        "\n",
        "vec_char2 <- c(\"red\", \"blue\", \"green\")\n",
        "print(vec_char2)\n",
        "\n",
        "vec_log2 <- c(FALSE, TRUE, FALSE)\n",
        "print(vec_log2)\n",
        "\n",
        "vec_mix2 <- c(5, \"world\", FALSE)\n",
        "print(vec_mix2)\n"
      ]
    },
    {
      "cell_type": "markdown",
      "source": [
        "#### seq() – Generate a sequence of numbers"
      ],
      "metadata": {
        "id": "7l_eqaxdW3IQ"
      }
    },
    {
      "cell_type": "code",
      "source": [
        "seq1 <- seq(5, 15)\n",
        "print(seq1)\n",
        "\n",
        "seq2 <- seq(2, 20, by = 3)\n",
        "print(seq2)\n",
        "\n",
        "seq3 <- seq(10, 50, length.out = 6)\n",
        "print(seq3)\n"
      ],
      "metadata": {
        "colab": {
          "base_uri": "https://localhost:8080/"
        },
        "id": "XCnL5MjFV6gn",
        "outputId": "daa98003-77f8-4d88-c078-f677ddaa5884"
      },
      "execution_count": 11,
      "outputs": [
        {
          "output_type": "stream",
          "name": "stdout",
          "text": [
            " [1]  5  6  7  8  9 10 11 12 13 14 15\n",
            "[1]  2  5  8 11 14 17 20\n",
            "[1] 10 18 26 34 42 50\n"
          ]
        }
      ]
    },
    {
      "cell_type": "markdown",
      "source": [
        "#### rep() – Repeat values"
      ],
      "metadata": {
        "id": "qCBo3zfGW9Df"
      }
    },
    {
      "cell_type": "code",
      "source": [
        "rep1 <- rep(c(4, 5, 6), times = 4)\n",
        "print(rep1)\n",
        "\n",
        "rep2 <- rep(c(7, 8, 9), each = 2)\n",
        "print(rep2)\n",
        "\n",
        "rep3 <- rep(c(\"X\", \"Y\", \"Z\"), each = 3, times = 2)\n",
        "print(rep3)\n"
      ],
      "metadata": {
        "colab": {
          "base_uri": "https://localhost:8080/"
        },
        "id": "07NPnrDiV8CX",
        "outputId": "a0653d80-2b37-452b-a290-f6aea88d943e"
      },
      "execution_count": 12,
      "outputs": [
        {
          "output_type": "stream",
          "name": "stdout",
          "text": [
            " [1] 4 5 6 4 5 6 4 5 6 4 5 6\n",
            "[1] 7 7 8 8 9 9\n",
            " [1] \"X\" \"X\" \"X\" \"Y\" \"Y\" \"Y\" \"Z\" \"Z\" \"Z\" \"X\" \"X\" \"X\" \"Y\" \"Y\" \"Y\" \"Z\" \"Z\" \"Z\"\n"
          ]
        }
      ]
    },
    {
      "cell_type": "markdown",
      "source": [
        "#### length() – Get the number of items in a vector or list"
      ],
      "metadata": {
        "id": "bxyETDdeW_jn"
      }
    },
    {
      "cell_type": "code",
      "source": [
        "len1 <- length(c(5, 15, 25, 35, 45))\n",
        "print(len1)\n",
        "\n",
        "len2 <- length(c(\"apple\", \"banana\", \"cherry\", \"date\", \"elderberry\"))\n",
        "print(len2)\n",
        "\n",
        "my_list <- list(x = 100, y = \"hello\", z = FALSE, w = 3.14)\n",
        "print(length(my_list))\n"
      ],
      "metadata": {
        "colab": {
          "base_uri": "https://localhost:8080/"
        },
        "id": "Azv0IERhV6dn",
        "outputId": "231ca021-3df8-4603-e499-bf5a61c3bdc5"
      },
      "execution_count": 13,
      "outputs": [
        {
          "output_type": "stream",
          "name": "stdout",
          "text": [
            "[1] 5\n",
            "[1] 5\n",
            "[1] 4\n"
          ]
        }
      ]
    },
    {
      "cell_type": "markdown",
      "source": [
        "#### sort() – Sort values in order"
      ],
      "metadata": {
        "id": "vrJLN0uHXCAX"
      }
    },
    {
      "cell_type": "code",
      "source": [
        "sorted1 <- sort(c(8, 3, 12, 7, 4))\n",
        "print(sorted1)\n",
        "\n",
        "sorted2 <- sort(c(15, 6, 22, 9, 1), decreasing = TRUE)\n",
        "print(sorted2)\n",
        "\n",
        "sorted3 <- sort(c(\"grape\", \"orange\", \"kiwi\", \"mango\"))\n",
        "print(sorted3)\n"
      ],
      "metadata": {
        "colab": {
          "base_uri": "https://localhost:8080/"
        },
        "id": "CVm6deN0V07W",
        "outputId": "a2a56450-eecf-481d-fad6-13d3f208be18"
      },
      "execution_count": 14,
      "outputs": [
        {
          "output_type": "stream",
          "name": "stdout",
          "text": [
            "[1]  3  4  7  8 12\n",
            "[1] 22 15  9  6  1\n",
            "[1] \"grape\"  \"kiwi\"   \"mango\"  \"orange\"\n"
          ]
        }
      ]
    },
    {
      "cell_type": "markdown",
      "source": [
        "#### order() – Get the index order that would sort the vector"
      ],
      "metadata": {
        "id": "5KrPNKUtXFb3"
      }
    },
    {
      "cell_type": "code",
      "source": [
        "ord1 <- order(c(30, 10, 50, 20))\n",
        "print(ord1)\n",
        "\n",
        "ord2 <- order(c(\"zebra\", \"lion\", \"elephant\", \"giraffe\"))\n",
        "print(ord2)\n"
      ],
      "metadata": {
        "colab": {
          "base_uri": "https://localhost:8080/"
        },
        "id": "MN42s_F7V05H",
        "outputId": "23587987-8df3-49f6-80ab-a15da5f02a55"
      },
      "execution_count": 15,
      "outputs": [
        {
          "output_type": "stream",
          "name": "stdout",
          "text": [
            "[1] 2 4 1 3\n",
            "[1] 3 4 2 1\n"
          ]
        }
      ]
    },
    {
      "cell_type": "markdown",
      "source": [
        "#### rev() – Reverse the order of items"
      ],
      "metadata": {
        "id": "YV9NQIf4XHkw"
      }
    },
    {
      "cell_type": "code",
      "source": [
        "rev1 <- rev(c(10, 20, 30, 40, 50))\n",
        "print(rev1)\n",
        "\n",
        "rev2 <- rev(c(\"apple\", \"banana\", \"cherry\", \"date\"))\n",
        "print(rev2)\n"
      ],
      "metadata": {
        "colab": {
          "base_uri": "https://localhost:8080/"
        },
        "id": "YBDOzhWMV02e",
        "outputId": "9c334fd5-a92e-488a-ea75-728c2a68b2cc"
      },
      "execution_count": 16,
      "outputs": [
        {
          "output_type": "stream",
          "name": "stdout",
          "text": [
            "[1] 50 40 30 20 10\n",
            "[1] \"date\"   \"cherry\" \"banana\" \"apple\" \n"
          ]
        }
      ]
    },
    {
      "cell_type": "markdown",
      "source": [
        "#### unique() – Get unique items from a vector\n"
      ],
      "metadata": {
        "id": "tHTb161LXKz3"
      }
    },
    {
      "cell_type": "code",
      "source": [
        "uniq1 <- unique(c(10, 20, 20, 30, 30, 40))\n",
        "print(uniq1)\n",
        "\n",
        "uniq2 <- unique(c(\"red\", \"blue\", \"red\", \"green\", \"blue\"))\n",
        "print(uniq2)\n"
      ],
      "metadata": {
        "colab": {
          "base_uri": "https://localhost:8080/"
        },
        "id": "UDO2tAg4Vwmn",
        "outputId": "9de09394-9f05-4f55-af36-d8a06db2256f"
      },
      "execution_count": 17,
      "outputs": [
        {
          "output_type": "stream",
          "name": "stdout",
          "text": [
            "[1] 10 20 30 40\n",
            "[1] \"red\"   \"blue\"  \"green\"\n"
          ]
        }
      ]
    },
    {
      "cell_type": "markdown",
      "source": [
        "#### table() – Make a frequency table of items\n"
      ],
      "metadata": {
        "id": "QfjpARbYXQYf"
      }
    },
    {
      "cell_type": "code",
      "source": [
        "# Example 1: Create a table for numbers\n",
        "tbl1 <- table(c(1, 2, 2, 3, 3, 3))\n",
        "print(tbl1)\n",
        "\n",
        "# Example 2: Create a table for fruit names\n",
        "tbl2 <- table(c(\"apple\", \"banana\", \"apple\", \"cherry\"))\n",
        "print(tbl2)"
      ],
      "metadata": {
        "colab": {
          "base_uri": "https://localhost:8080/"
        },
        "id": "LoHiHN9YVwfn",
        "outputId": "f81515b0-ac47-4292-9623-0f21578e27bd"
      },
      "execution_count": null,
      "outputs": [
        {
          "output_type": "stream",
          "name": "stdout",
          "text": [
            "\n",
            "1 2 3 \n",
            "1 2 3 \n",
            "\n",
            " apple banana cherry \n",
            "     2      1      1 \n"
          ]
        }
      ]
    },
    {
      "cell_type": "markdown",
      "source": [
        "#### match() – Find the first index of a match"
      ],
      "metadata": {
        "id": "09yB2d9yXT4P"
      }
    },
    {
      "cell_type": "code",
      "source": [
        "# Example 1: Find the index of 3 in a vector\n",
        "match1 <- match(3, c(1, 2, 3, 4, 3))\n",
        "print(match1)\n",
        "\n",
        "# Example 2: Find the index of \"banana\" in a vector\n",
        "match2 <- match(\"banana\", c(\"apple\", \"banana\", \"cherry\"))\n",
        "print(match2)"
      ],
      "metadata": {
        "colab": {
          "base_uri": "https://localhost:8080/"
        },
        "id": "EQSq1exjVwYO",
        "outputId": "0adcddf2-609b-4ba9-d533-08d78cf635e3"
      },
      "execution_count": null,
      "outputs": [
        {
          "output_type": "stream",
          "name": "stdout",
          "text": [
            "[1] 3\n",
            "[1] 2\n"
          ]
        }
      ]
    },
    {
      "cell_type": "markdown",
      "source": [
        "#### %in% – Check if items exist in a vector\n"
      ],
      "metadata": {
        "id": "iV97bhzXXWe3"
      }
    },
    {
      "cell_type": "code",
      "source": [
        "# Example 1: Check if number 3 is in a vector\n",
        "in1 <- 3 %in% c(1, 2, 3, 4)\n",
        "print(in1)\n",
        "\n",
        "# Example 2: Check if \"apple\" and \"kiwi\" are in a vector\n",
        "in2 <- c(\"apple\", \"kiwi\") %in% c(\"apple\", \"banana\", \"cherry\")\n",
        "print(in2)"
      ],
      "metadata": {
        "colab": {
          "base_uri": "https://localhost:8080/"
        },
        "id": "4wQS65pxVsEO",
        "outputId": "2d96502b-f366-4ba6-d27a-520b215329aa"
      },
      "execution_count": null,
      "outputs": [
        {
          "output_type": "stream",
          "name": "stdout",
          "text": [
            "[1] TRUE\n",
            "[1]  TRUE FALSE\n"
          ]
        }
      ]
    },
    {
      "cell_type": "markdown",
      "source": [
        "#### which() – Get indices of elements satisfying a condition\n"
      ],
      "metadata": {
        "id": "mz8Qcnf-XaIo"
      }
    },
    {
      "cell_type": "code",
      "source": [
        "# Example 1: Find indices where numbers are greater than 3\n",
        "which1 <- which(c(1, 4, 2, 5, 3) > 3)\n",
        "print(which1)\n",
        "\n",
        "# Example 2: Find indices of letters that are \"a\" in a vector\n",
        "which2 <- which(c(\"a\", \"b\", \"a\", \"c\") == \"a\")\n",
        "print(which2)"
      ],
      "metadata": {
        "colab": {
          "base_uri": "https://localhost:8080/"
        },
        "id": "EKLuVFZKVsBj",
        "outputId": "f21cc395-c4f4-4d12-b783-b223bf9b7758"
      },
      "execution_count": null,
      "outputs": [
        {
          "output_type": "stream",
          "name": "stdout",
          "text": [
            "[1] 2 4\n",
            "[1] 1 3\n"
          ]
        }
      ]
    },
    {
      "cell_type": "markdown",
      "source": [
        "#### any() – Check if any element meets a condition\n"
      ],
      "metadata": {
        "id": "yAVsgODAXe3P"
      }
    },
    {
      "cell_type": "code",
      "source": [
        "# Example 1: Check if any number is greater than 10\n",
        "any1 <- any(c(1, 5, 8, 12) > 10)\n",
        "print(any1)\n",
        "\n",
        "# Example 2: Check if any element is TRUE\n",
        "any2 <- any(c(FALSE, FALSE, TRUE))\n",
        "print(any2)"
      ],
      "metadata": {
        "colab": {
          "base_uri": "https://localhost:8080/"
        },
        "id": "4udJokaYVr-3",
        "outputId": "ae08ff72-366f-459d-8085-d58f52df6bec"
      },
      "execution_count": null,
      "outputs": [
        {
          "output_type": "stream",
          "name": "stdout",
          "text": [
            "[1] TRUE\n",
            "[1] TRUE\n"
          ]
        }
      ]
    },
    {
      "cell_type": "markdown",
      "source": [
        "#### all() – Check if all elements meet a condition\n"
      ],
      "metadata": {
        "id": "wp37ssnnXg0w"
      }
    },
    {
      "cell_type": "code",
      "source": [
        "# Example 1: Check if all numbers are positive\n",
        "all1 <- all(c(1, 2, 3, 4) > 0)\n",
        "print(all1)\n",
        "\n",
        "# Example 2: Check if all numbers are even\n",
        "all2 <- all(c(2, 4, 6, 8) %% 2 == 0)\n",
        "print(all2)"
      ],
      "metadata": {
        "colab": {
          "base_uri": "https://localhost:8080/"
        },
        "id": "OuOSxBFoVr8P",
        "outputId": "4a303558-78db-4100-8984-4d4c5d7b58ef"
      },
      "execution_count": null,
      "outputs": [
        {
          "output_type": "stream",
          "name": "stdout",
          "text": [
            "[1] TRUE\n",
            "[1] TRUE\n"
          ]
        }
      ]
    },
    {
      "cell_type": "markdown",
      "source": [
        "#### is.na() – Check for missing (NA) values\n"
      ],
      "metadata": {
        "id": "VlPkmQXeXirQ"
      }
    },
    {
      "cell_type": "code",
      "source": [
        "# Example 1: Find NA in a vector\n",
        "na_check1 <- is.na(c(1, NA, 3))\n",
        "print(na_check1)\n",
        "\n",
        "# Example 2: Check NA in a character vector with NA values\n",
        "na_check2 <- is.na(c(\"apple\", NA, \"banana\"))\n",
        "print(na_check2)"
      ],
      "metadata": {
        "colab": {
          "base_uri": "https://localhost:8080/"
        },
        "id": "V-1p7729Vj6R",
        "outputId": "e2a455e5-f26e-4c65-d677-51aeb25990d2"
      },
      "execution_count": null,
      "outputs": [
        {
          "output_type": "stream",
          "name": "stdout",
          "text": [
            "[1] FALSE  TRUE FALSE\n",
            "[1] FALSE  TRUE FALSE\n"
          ]
        }
      ]
    },
    {
      "cell_type": "markdown",
      "source": [
        "#### na.omit() – Remove NA values from data"
      ],
      "metadata": {
        "id": "9xeBIho_XlcP"
      }
    },
    {
      "cell_type": "code",
      "source": [
        "# Example 1: Remove NA from a numeric vector\n",
        "clean1 <- na.omit(c(1, NA, 3, NA, 5))\n",
        "print(clean1)\n",
        "\n",
        "# Example 2: Remove NA from a data frame\n",
        "df_na <- data.frame(a = c(1, NA, 3), b = c(\"x\", \"y\", NA))\n",
        "clean_df <- na.omit(df_na)\n",
        "print(clean_df)"
      ],
      "metadata": {
        "colab": {
          "base_uri": "https://localhost:8080/"
        },
        "id": "EBODUlERVj34",
        "outputId": "5af938d4-65f7-4ae1-a595-97fcfc849968"
      },
      "execution_count": null,
      "outputs": [
        {
          "output_type": "stream",
          "name": "stdout",
          "text": [
            "[1] 1 3 5\n",
            "attr(,\"na.action\")\n",
            "[1] 2 4\n",
            "attr(,\"class\")\n",
            "[1] \"omit\"\n",
            "  a b\n",
            "1 1 x\n"
          ]
        }
      ]
    },
    {
      "cell_type": "markdown",
      "source": [
        "#### replace() – Replace values in a vector\n"
      ],
      "metadata": {
        "id": "vTVna-oiXoz3"
      }
    },
    {
      "cell_type": "code",
      "source": [
        "# Example 1: Replace all 2's with 99\n",
        "rep_vec <- c(1, 2, 3, 2, 4)\n",
        "replaced1 <- replace(rep_vec, rep_vec == 2, 99)\n",
        "print(replaced1)\n",
        "\n",
        "# Example 2: Replace the value at position 3 with 0\n",
        "replaced2 <- replace(rep_vec, 3, 0)\n",
        "print(replaced2)"
      ],
      "metadata": {
        "colab": {
          "base_uri": "https://localhost:8080/"
        },
        "id": "rzW5NnC5Vj1W",
        "outputId": "2f5936ba-f241-4f7b-bb99-3b7cab88aa36"
      },
      "execution_count": null,
      "outputs": [
        {
          "output_type": "stream",
          "name": "stdout",
          "text": [
            "[1]  1 99  3 99  4\n",
            "[1] 1 2 0 2 4\n"
          ]
        }
      ]
    },
    {
      "cell_type": "markdown",
      "source": [
        "#### paste() – Concatenate strings (with a space by default)\n"
      ],
      "metadata": {
        "id": "Awubc8c5XqoH"
      }
    },
    {
      "cell_type": "code",
      "source": [
        "# Example 1: Paste two words together\n",
        "str1 <- paste(\"Hello\", \"World\")\n",
        "print(str1)\n",
        "\n",
        "# Example 2: Paste multiple strings\n",
        "str2 <- paste(\"This\", \"is\", \"a\", \"sentence.\")\n",
        "print(str2)\n",
        "\n",
        "# Example 3: Paste with a custom separator and collapse a vector\n",
        "str3 <- paste(c(\"R\", \"is\", \"fun\"), collapse = \"-\")\n",
        "print(str3)"
      ],
      "metadata": {
        "colab": {
          "base_uri": "https://localhost:8080/"
        },
        "id": "8MvknonPVjy2",
        "outputId": "d4ca6860-3902-4b63-9b67-1b3e58ea3023"
      },
      "execution_count": null,
      "outputs": [
        {
          "output_type": "stream",
          "name": "stdout",
          "text": [
            "[1] \"Hello World\"\n",
            "[1] \"This is a sentence.\"\n",
            "[1] \"R-is-fun\"\n"
          ]
        }
      ]
    },
    {
      "cell_type": "markdown",
      "source": [
        "#### paste0() – Concatenate strings with no spaces\n"
      ],
      "metadata": {
        "id": "xJJyCdgnXsev"
      }
    },
    {
      "cell_type": "code",
      "source": [
        "# Example 1: Combine strings without spaces\n",
        "str4 <- paste0(\"Hello\", \"World\")\n",
        "print(str4)\n",
        "\n",
        "# Example 2: Combine more than two strings\n",
        "str5 <- paste0(\"R\", \"is\", \"cool\")\n",
        "print(str5)"
      ],
      "metadata": {
        "colab": {
          "base_uri": "https://localhost:8080/"
        },
        "id": "0hU10u-5Vjvn",
        "outputId": "69b2f002-4531-4942-af1a-267f5cfd3b98"
      },
      "execution_count": null,
      "outputs": [
        {
          "output_type": "stream",
          "name": "stdout",
          "text": [
            "[1] \"HelloWorld\"\n",
            "[1] \"Riscool\"\n"
          ]
        }
      ]
    },
    {
      "cell_type": "markdown",
      "source": [
        "#### toupper() – Convert strings to uppercase\n"
      ],
      "metadata": {
        "id": "bGlxrg8oXuRv"
      }
    },
    {
      "cell_type": "code",
      "source": [
        "# Example 1: Convert a single string\n",
        "upper1 <- toupper(\"hello\")\n",
        "print(upper1)\n",
        "\n",
        "# Example 2: Convert a vector of strings\n",
        "upper2 <- toupper(c(\"apple\", \"banana\"))\n",
        "print(upper2)"
      ],
      "metadata": {
        "colab": {
          "base_uri": "https://localhost:8080/"
        },
        "id": "YJl28EAdVjs_",
        "outputId": "0e865e1e-4987-4dc6-9d41-b99906dfef40"
      },
      "execution_count": null,
      "outputs": [
        {
          "output_type": "stream",
          "name": "stdout",
          "text": [
            "[1] \"HELLO\"\n",
            "[1] \"APPLE\"  \"BANANA\"\n"
          ]
        }
      ]
    },
    {
      "cell_type": "markdown",
      "source": [
        "#### tolower() – Convert strings to lowercase\n"
      ],
      "metadata": {
        "id": "1m0QWgV9Xwf3"
      }
    },
    {
      "cell_type": "code",
      "source": [
        "# Example 1: Convert a single string\n",
        "lower1 <- tolower(\"HELLO\")\n",
        "print(lower1)\n",
        "\n",
        "# Example 2: Convert a vector of strings\n",
        "lower2 <- tolower(c(\"APPLE\", \"BANANA\"))\n",
        "print(lower2)"
      ],
      "metadata": {
        "colab": {
          "base_uri": "https://localhost:8080/"
        },
        "id": "AXmSLQ7mVTpa",
        "outputId": "9ded24c9-839e-4e66-b7a9-b8c43eaaf903"
      },
      "execution_count": null,
      "outputs": [
        {
          "output_type": "stream",
          "name": "stdout",
          "text": [
            "[1] \"hello\"\n",
            "[1] \"apple\"  \"banana\"\n"
          ]
        }
      ]
    },
    {
      "cell_type": "markdown",
      "source": [
        "#### substr() – Extract a part of a string\n"
      ],
      "metadata": {
        "id": "IRrbZYeuXyS3"
      }
    },
    {
      "cell_type": "code",
      "source": [
        "# Example 1: Get substring from character 2 to 4\n",
        "sub1 <- substr(\"abcdef\", 2, 4)\n",
        "print(sub1)\n",
        "\n",
        "# Example 2: Get substring from a vector of strings\n",
        "sub2 <- substr(c(\"Rprogramming\", \"statistics\"), 1, 3)\n",
        "print(sub2)"
      ],
      "metadata": {
        "colab": {
          "base_uri": "https://localhost:8080/"
        },
        "id": "vQ51d885VTkO",
        "outputId": "97ce7f3b-402a-4184-e782-0f5b962d5c92"
      },
      "execution_count": null,
      "outputs": [
        {
          "output_type": "stream",
          "name": "stdout",
          "text": [
            "[1] \"bcd\"\n",
            "[1] \"Rpr\" \"sta\"\n"
          ]
        }
      ]
    },
    {
      "cell_type": "markdown",
      "source": [
        "#### grep() – Search for pattern and return indices\n"
      ],
      "metadata": {
        "id": "IV1tJw1eX0Nf"
      }
    },
    {
      "cell_type": "code",
      "source": [
        "# Example 1: Find positions of \"a\" in a character vector\n",
        "grep1 <- grep(\"a\", c(\"apple\", \"banana\", \"cherry\"))\n",
        "print(grep1)\n",
        "\n",
        "# Example 2: Use regex to find words starting with \"b\"\n",
        "grep2 <- grep(\"^b\", c(\"apple\", \"banana\", \"blueberry\", \"cherry\"))\n",
        "print(grep2)"
      ],
      "metadata": {
        "colab": {
          "base_uri": "https://localhost:8080/"
        },
        "id": "neyWPI9KVThm",
        "outputId": "1e7757d7-e909-4768-c9b0-2444f4130101"
      },
      "execution_count": null,
      "outputs": [
        {
          "output_type": "stream",
          "name": "stdout",
          "text": [
            "[1] 1 2\n",
            "[1] 2 3\n"
          ]
        }
      ]
    },
    {
      "cell_type": "markdown",
      "source": [
        "#### gsub() – Replace pattern in strings"
      ],
      "metadata": {
        "id": "ssbJ972FWwnW"
      }
    },
    {
      "cell_type": "code",
      "source": [
        "# Example 1: Replace \"a\" with \"X\" in a string\n",
        "gsub1 <- gsub(\"a\", \"X\", \"banana\")\n",
        "print(gsub1)\n",
        "\n",
        "# Example 2: Replace digits with \"-\" in a vector of strings\n",
        "gsub2 <- gsub(\"[0-9]\", \"-\", c(\"a1b2\", \"3c4d\"))\n",
        "print(gsub2)"
      ],
      "metadata": {
        "colab": {
          "base_uri": "https://localhost:8080/"
        },
        "id": "JWYg8UxuVTfG",
        "outputId": "5e3471ca-a573-4ab9-e814-1deb21c545ba"
      },
      "execution_count": null,
      "outputs": [
        {
          "output_type": "stream",
          "name": "stdout",
          "text": [
            "[1] \"bXnXnX\"\n",
            "[1] \"a-b-\" \"-c-d\"\n"
          ]
        }
      ]
    },
    {
      "cell_type": "markdown",
      "source": [
        "#### strsplit() – Split strings by a delimiter"
      ],
      "metadata": {
        "id": "KE4VwKF5Wr0n"
      }
    },
    {
      "cell_type": "code",
      "source": [
        "# Example 1: Split a sentence by space\n",
        "split1 <- strsplit(\"R is fun\", \" \")\n",
        "print(split1)\n",
        "\n",
        "# Example 2: Split a string by a comma\n",
        "split2 <- strsplit(\"apple,banana,cherry\", \",\")\n",
        "print(split2)\n"
      ],
      "metadata": {
        "colab": {
          "base_uri": "https://localhost:8080/"
        },
        "id": "gCYz5IqIVTcv",
        "outputId": "5f060c88-5812-48c9-c541-d53d103429ae"
      },
      "execution_count": null,
      "outputs": [
        {
          "output_type": "stream",
          "name": "stdout",
          "text": [
            "[[1]]\n",
            "[1] \"R\"   \"is\"  \"fun\"\n",
            "\n",
            "[[1]]\n",
            "[1] \"apple\"  \"banana\" \"cherry\"\n",
            "\n"
          ]
        }
      ]
    },
    {
      "cell_type": "markdown",
      "source": [
        "#### as.numeric() – Convert to numeric type"
      ],
      "metadata": {
        "id": "IxrVtHWGWnlX"
      }
    },
    {
      "cell_type": "code",
      "source": [
        "# Example 1: Convert a numeric string to number\n",
        "num1 <- as.numeric(\"123\")\n",
        "print(num1)\n",
        "\n",
        "# Example 2: Convert a factor to numeric (first convert to character!)\n",
        "fact <- factor(c(\"10\", \"20\", \"30\"))\n",
        "num2 <- as.numeric(as.character(fact))\n",
        "print(num2)"
      ],
      "metadata": {
        "colab": {
          "base_uri": "https://localhost:8080/"
        },
        "id": "6UPlAlSNVTZ_",
        "outputId": "3d1accec-0347-4bea-e81c-6bcf7409c218"
      },
      "execution_count": null,
      "outputs": [
        {
          "output_type": "stream",
          "name": "stdout",
          "text": [
            "[1] 123\n",
            "[1] 10 20 30\n"
          ]
        }
      ]
    },
    {
      "cell_type": "markdown",
      "source": [
        "#### as.character() – Convert to character type"
      ],
      "metadata": {
        "id": "oLndoek5Wklf"
      }
    },
    {
      "cell_type": "code",
      "source": [
        "# Example 1: Convert a number to a string\n",
        "char1 <- as.character(456)\n",
        "print(char1)\n",
        "\n",
        "# Example 2: Convert a factor to a string\n",
        "fact2 <- factor(c(\"dog\", \"cat\"))\n",
        "char2 <- as.character(fact2)\n",
        "print(char2)"
      ],
      "metadata": {
        "colab": {
          "base_uri": "https://localhost:8080/"
        },
        "id": "CP43UbNuVTXo",
        "outputId": "a42817ed-e6b1-48cf-e5a6-1ac3c994c649"
      },
      "execution_count": null,
      "outputs": [
        {
          "output_type": "stream",
          "name": "stdout",
          "text": [
            "[1] \"456\"\n",
            "[1] \"dog\" \"cat\"\n"
          ]
        }
      ]
    },
    {
      "cell_type": "markdown",
      "source": [
        "#### as.factor() – Convert to factor (categorical data)"
      ],
      "metadata": {
        "id": "GAddo4DoWdqW"
      }
    },
    {
      "cell_type": "code",
      "source": [
        "# Example 1: Convert a character vector to factor\n",
        "fact3 <- as.factor(c(\"red\", \"green\", \"red\", \"blue\"))\n",
        "print(fact3)\n",
        "\n",
        "# Example 2: Convert a numeric vector to factor\n",
        "fact4 <- as.factor(c(1, 2, 2, 3))\n",
        "print(fact4)"
      ],
      "metadata": {
        "colab": {
          "base_uri": "https://localhost:8080/"
        },
        "id": "t0e2RI6oVTS-",
        "outputId": "90ced644-2f24-4929-a969-87a5770b51d9"
      },
      "execution_count": null,
      "outputs": [
        {
          "output_type": "stream",
          "name": "stdout",
          "text": [
            "[1] red   green red   blue \n",
            "Levels: blue green red\n",
            "[1] 1 2 2 3\n",
            "Levels: 1 2 3\n"
          ]
        }
      ]
    },
    {
      "cell_type": "markdown",
      "source": [
        "#### as.Date() – Convert string to Date"
      ],
      "metadata": {
        "id": "r31Nwk7lWZaP"
      }
    },
    {
      "cell_type": "code",
      "source": [
        "# Example 1: Default conversion (expects yyyy-mm-dd)\n",
        "date1 <- as.Date(\"2025-01-01\")\n",
        "print(date1)\n",
        "\n",
        "# Example 2: Specify a different format (day/month/year)\n",
        "date2 <- as.Date(\"01/02/2025\", format = \"%d/%m/%Y\")\n",
        "print(date2)"
      ],
      "metadata": {
        "colab": {
          "base_uri": "https://localhost:8080/"
        },
        "id": "BLyu2jFsVTNO",
        "outputId": "f7e53fba-a043-4a20-a97e-f877294e29c7"
      },
      "execution_count": null,
      "outputs": [
        {
          "output_type": "stream",
          "name": "stdout",
          "text": [
            "[1] \"2025-01-01\"\n",
            "[1] \"2025-02-01\"\n"
          ]
        }
      ]
    },
    {
      "cell_type": "markdown",
      "source": [
        "#### Sys.Date() – Get the current system date"
      ],
      "metadata": {
        "id": "ujGKXshcWN0_"
      }
    },
    {
      "cell_type": "code",
      "source": [
        "# Example 1: Simply print today’s date\n",
        "today1 <- Sys.Date()\n",
        "print(today1)\n",
        "\n",
        "# Example 2: Save today’s date in a variable and show it\n",
        "today2 <- Sys.Date()\n",
        "cat(\"Today is:\", today2, \"\\n\")"
      ],
      "metadata": {
        "colab": {
          "base_uri": "https://localhost:8080/"
        },
        "id": "gx66_EQIVTCn",
        "outputId": "2542e3ea-f4eb-4677-f1ce-7419d1cc9e78"
      },
      "execution_count": null,
      "outputs": [
        {
          "output_type": "stream",
          "name": "stdout",
          "text": [
            "[1] \"2025-02-03\"\n",
            "Today is: 20122 \n"
          ]
        }
      ]
    },
    {
      "cell_type": "markdown",
      "source": [
        "\n",
        "#  Mathematical & Statistical Functions\n"
      ],
      "metadata": {
        "id": "aRrD0wMVZKRP"
      }
    },
    {
      "cell_type": "markdown",
      "source": [
        "#### sum() – Sum of elements\n"
      ],
      "metadata": {
        "id": "gBKZt2r_ZOjX"
      }
    },
    {
      "cell_type": "code",
      "source": [
        "# Example 1: Sum of numbers in a vector\n",
        "total1 <- sum(c(1, 2, 3, 4))\n",
        "print(total1)\n",
        "\n",
        "# Example 2: Sum of a sequence of numbers\n",
        "total2 <- sum(1:10)\n",
        "print(total2)"
      ],
      "metadata": {
        "colab": {
          "base_uri": "https://localhost:8080/"
        },
        "id": "cUAs04eaZJfY",
        "outputId": "bb474fda-0831-4c9f-8b91-a765366a1996"
      },
      "execution_count": null,
      "outputs": [
        {
          "output_type": "stream",
          "name": "stdout",
          "text": [
            "[1] 10\n",
            "[1] 55\n"
          ]
        }
      ]
    },
    {
      "cell_type": "markdown",
      "source": [
        "#### prod() – Product of elements\n"
      ],
      "metadata": {
        "id": "L1aWnalIZfwv"
      }
    },
    {
      "cell_type": "code",
      "source": [
        "# Example 1: Product of numbers in a vector\n",
        "prod1 <- prod(c(1, 2, 3, 4))\n",
        "print(prod1)\n",
        "\n",
        "# Example 2: Product of a sequence\n",
        "prod2 <- prod(1:5)\n",
        "print(prod2)"
      ],
      "metadata": {
        "colab": {
          "base_uri": "https://localhost:8080/"
        },
        "id": "IZttvGYtZilX",
        "outputId": "bb3fb5a3-a1a9-4130-9f5e-cab8bcc7cd6c"
      },
      "execution_count": null,
      "outputs": [
        {
          "output_type": "stream",
          "name": "stdout",
          "text": [
            "[1] 24\n",
            "[1] 120\n"
          ]
        }
      ]
    },
    {
      "cell_type": "markdown",
      "source": [
        "#### cumsum() – Cumulative sum of elements\n"
      ],
      "metadata": {
        "id": "OoSE1kXFZlFf"
      }
    },
    {
      "cell_type": "code",
      "source": [
        "# Example 1: Cumulative sum for a vector\n",
        "cum_sum1 <- cumsum(c(1, 2, 3, 4))\n",
        "print(cum_sum1)\n",
        "\n",
        "# Example 2: Cumulative sum with negative numbers\n",
        "cum_sum2 <- cumsum(c(10, -2, 3, -1))\n",
        "print(cum_sum2)"
      ],
      "metadata": {
        "colab": {
          "base_uri": "https://localhost:8080/"
        },
        "id": "-YrYCRGvZn2f",
        "outputId": "eaf378ed-e536-47f3-9265-559fb2e117f3"
      },
      "execution_count": null,
      "outputs": [
        {
          "output_type": "stream",
          "name": "stdout",
          "text": [
            "[1]  1  3  6 10\n",
            "[1] 10  8 11 10\n"
          ]
        }
      ]
    },
    {
      "cell_type": "markdown",
      "source": [
        "#### cumprod() – Cumulative product of elements\n"
      ],
      "metadata": {
        "id": "cO2n-yNsZqFv"
      }
    },
    {
      "cell_type": "code",
      "source": [
        "# Example 1: Cumulative product for a vector\n",
        "cum_prod1 <- cumprod(c(1, 2, 3, 4))\n",
        "print(cum_prod1)\n",
        "\n",
        "# Example 2: Cumulative product for a sequence\n",
        "cum_prod2 <- cumprod(1:5)\n",
        "print(cum_prod2)\n"
      ],
      "metadata": {
        "colab": {
          "base_uri": "https://localhost:8080/"
        },
        "id": "ihnOGyG7Zxm3",
        "outputId": "51be2685-566c-43ab-934a-cc9b6efb93c7"
      },
      "execution_count": null,
      "outputs": [
        {
          "output_type": "stream",
          "name": "stdout",
          "text": [
            "[1]  1  2  6 24\n",
            "[1]   1   2   6  24 120\n"
          ]
        }
      ]
    },
    {
      "cell_type": "markdown",
      "source": [
        "#### mean() – Calculate the average\n"
      ],
      "metadata": {
        "id": "s4Btyh67Z9fA"
      }
    },
    {
      "cell_type": "code",
      "source": [
        "# Example 1: Mean of a vector\n",
        "mean1 <- mean(c(10, 20, 30))\n",
        "print(mean1)\n",
        "\n",
        "# Example 2: Mean of a column in a data frame\n",
        "df_mean <- data.frame(x = c(2, 4, 6, 8))\n",
        "mean2 <- mean(df_mean$x)\n",
        "print(mean2)"
      ],
      "metadata": {
        "colab": {
          "base_uri": "https://localhost:8080/"
        },
        "id": "0EmvA-AWaAdN",
        "outputId": "074d2b7c-d8ca-439a-c557-c65dcee64601"
      },
      "execution_count": null,
      "outputs": [
        {
          "output_type": "stream",
          "name": "stdout",
          "text": [
            "[1] 20\n",
            "[1] 5\n"
          ]
        }
      ]
    },
    {
      "cell_type": "markdown",
      "source": [
        "#### median() – Calculate the median (middle value)\n"
      ],
      "metadata": {
        "id": "r6l6kEX-aCr_"
      }
    },
    {
      "cell_type": "code",
      "source": [
        "# Example 1: Median of odd-length vector\n",
        "med1 <- median(c(1, 3, 5))\n",
        "print(med1)\n",
        "\n",
        "# Example 2: Median of even-length vector\n",
        "med2 <- median(c(2, 4, 6, 8))\n",
        "print(med2)"
      ],
      "metadata": {
        "colab": {
          "base_uri": "https://localhost:8080/"
        },
        "id": "BVZBaRdDaC_Y",
        "outputId": "85db28c1-b34e-47b9-abe7-2cbf4793576e"
      },
      "execution_count": null,
      "outputs": [
        {
          "output_type": "stream",
          "name": "stdout",
          "text": [
            "[1] 3\n",
            "[1] 5\n"
          ]
        }
      ]
    },
    {
      "cell_type": "markdown",
      "source": [
        "#### min() – Find the minimum value\n"
      ],
      "metadata": {
        "id": "w99re2BDaHGo"
      }
    },
    {
      "cell_type": "code",
      "source": [
        "# Example 1: Minimum of a numeric vector\n",
        "min1 <- min(c(5, 2, 9, 1))\n",
        "print(min1)\n",
        "\n",
        "# Example 2: Minimum of another set of numbers\n",
        "min2 <- min(c(-10, 0, 10))\n",
        "print(min2)"
      ],
      "metadata": {
        "colab": {
          "base_uri": "https://localhost:8080/"
        },
        "id": "r_Vl33ChaHoX",
        "outputId": "72f639f0-9d02-42d8-e79c-00c87a94aa72"
      },
      "execution_count": null,
      "outputs": [
        {
          "output_type": "stream",
          "name": "stdout",
          "text": [
            "[1] 1\n",
            "[1] -10\n"
          ]
        }
      ]
    },
    {
      "cell_type": "markdown",
      "source": [
        "#### max() – Find the maximum value\n"
      ],
      "metadata": {
        "id": "ERAerX54aMyY"
      }
    },
    {
      "cell_type": "code",
      "source": [
        "# Example 1: Maximum of a numeric vector\n",
        "max1 <- max(c(5, 2, 9, 1))\n",
        "print(max1)\n",
        "\n",
        "# Example 2: Maximum from a sequence\n",
        "max2 <- max(1:10)\n",
        "print(max2)"
      ],
      "metadata": {
        "colab": {
          "base_uri": "https://localhost:8080/"
        },
        "id": "t15YWKC1aQC3",
        "outputId": "4b496ceb-97bb-442a-8ae1-16e57e99cca8"
      },
      "execution_count": null,
      "outputs": [
        {
          "output_type": "stream",
          "name": "stdout",
          "text": [
            "[1] 9\n",
            "[1] 10\n"
          ]
        }
      ]
    },
    {
      "cell_type": "markdown",
      "source": [
        "#### range() – Get the minimum and maximum as a vector\n"
      ],
      "metadata": {
        "id": "ZEBoB5csaZQo"
      }
    },
    {
      "cell_type": "code",
      "source": [
        "# Example 1: Range of numbers\n",
        "range1 <- range(c(5, 2, 9, 1))\n",
        "print(range1)\n",
        "\n",
        "# Example 2: Range for a sequence\n",
        "range2 <- range(10:20)\n",
        "print(range2)"
      ],
      "metadata": {
        "id": "QmoTbzHqu8Hz"
      },
      "execution_count": null,
      "outputs": []
    },
    {
      "cell_type": "markdown",
      "source": [
        "#### var() – Calculate variance\n"
      ],
      "metadata": {
        "id": "_3ckFI3QabeI"
      }
    },
    {
      "cell_type": "code",
      "source": [
        "# Example 1: Variance of a vector\n",
        "var1 <- var(c(1, 2, 3, 4, 5))\n",
        "print(var1)\n",
        "\n",
        "# Example 2: Variance for another set\n",
        "var2 <- var(c(10, 15, 10, 20))\n",
        "print(var2)"
      ],
      "metadata": {
        "colab": {
          "base_uri": "https://localhost:8080/"
        },
        "id": "J9USFLLeZrU4",
        "outputId": "051b5845-4960-4ed2-c53b-63c088bb7097"
      },
      "execution_count": null,
      "outputs": [
        {
          "output_type": "stream",
          "name": "stdout",
          "text": [
            "[1] 2.5\n",
            "[1] 22.91667\n"
          ]
        }
      ]
    },
    {
      "cell_type": "markdown",
      "source": [
        "#### sd() – Standard deviation\n"
      ],
      "metadata": {
        "id": "mD1mYSBAagTf"
      }
    },
    {
      "cell_type": "code",
      "source": [
        "# Example 1: Standard deviation of a vector\n",
        "sd1 <- sd(c(1, 2, 3, 4, 5))\n",
        "print(sd1)\n",
        "\n",
        "# Example 2: Standard deviation of another vector\n",
        "sd2 <- sd(c(10, 20, 30, 40))\n",
        "print(sd2)"
      ],
      "metadata": {
        "colab": {
          "base_uri": "https://localhost:8080/"
        },
        "id": "OCp_c6jCZrPv",
        "outputId": "54a20c52-2bdf-423f-dc39-74cadc4529ad"
      },
      "execution_count": null,
      "outputs": [
        {
          "output_type": "stream",
          "name": "stdout",
          "text": [
            "[1] 1.581139\n",
            "[1] 12.90994\n"
          ]
        }
      ]
    },
    {
      "cell_type": "markdown",
      "source": [
        "#### quantile() – Compute quantiles of a vector\n"
      ],
      "metadata": {
        "id": "0t1tcRSBaj6I"
      }
    },
    {
      "cell_type": "code",
      "source": [
        "# Example 1: Default quantiles (0%, 25%, 50%, 75%, 100%)\n",
        "q1 <- quantile(c(1, 2, 3, 4, 5))\n",
        "print(q1)\n",
        "\n",
        "# Example 2: Specific quantiles (10% and 90%)\n",
        "q2 <- quantile(c(1, 2, 3, 4, 5), probs = c(0.1, 0.9))\n",
        "print(q2)"
      ],
      "metadata": {
        "colab": {
          "base_uri": "https://localhost:8080/"
        },
        "id": "0N3rmMNUZrLT",
        "outputId": "e4321fb7-7874-4839-a551-f83ab4878d4b"
      },
      "execution_count": null,
      "outputs": [
        {
          "output_type": "stream",
          "name": "stdout",
          "text": [
            "  0%  25%  50%  75% 100% \n",
            "   1    2    3    4    5 \n",
            "10% 90% \n",
            "1.4 4.6 \n"
          ]
        }
      ]
    },
    {
      "cell_type": "markdown",
      "source": [
        "#### round() – Round numbers to the nearest integer or digit\n"
      ],
      "metadata": {
        "id": "_8kjJVn0aqUQ"
      }
    },
    {
      "cell_type": "code",
      "source": [
        "# Example 1: Round a single number\n",
        "round1 <- round(3.14159)\n",
        "print(round1)\n",
        "\n",
        "# Example 2: Round numbers in a vector\n",
        "round2 <- round(c(1.2, 2.5, 3.7))\n",
        "print(round2)\n",
        "\n",
        "# Example 3: Round to 2 decimal places\n",
        "round3 <- round(3.14159, digits = 2)\n",
        "print(round3)"
      ],
      "metadata": {
        "colab": {
          "base_uri": "https://localhost:8080/"
        },
        "id": "0mMZMLk8ZrJJ",
        "outputId": "3500d888-87ac-4182-e639-1da2921831a6"
      },
      "execution_count": null,
      "outputs": [
        {
          "output_type": "stream",
          "name": "stdout",
          "text": [
            "[1] 3\n",
            "[1] 1 2 4\n",
            "[1] 3.14\n"
          ]
        }
      ]
    },
    {
      "cell_type": "markdown",
      "source": [
        "#### ceiling() – Round numbers up\n"
      ],
      "metadata": {
        "id": "xUL5g-O1axSv"
      }
    },
    {
      "cell_type": "code",
      "source": [
        "# Example 1: Ceiling of a single number\n",
        "ceil1 <- ceiling(3.1)\n",
        "print(ceil1)\n",
        "\n",
        "# Example 2: Ceiling of a vector of numbers\n",
        "ceil2 <- ceiling(c(1.2, 2.5, 3.7))\n",
        "print(ceil2)"
      ],
      "metadata": {
        "colab": {
          "base_uri": "https://localhost:8080/"
        },
        "id": "2Q_hVEulZrGh",
        "outputId": "a069fbbb-b0c1-4f2f-9b06-6aa70581ed8c"
      },
      "execution_count": null,
      "outputs": [
        {
          "output_type": "stream",
          "name": "stdout",
          "text": [
            "[1] 4\n",
            "[1] 2 3 4\n"
          ]
        }
      ]
    },
    {
      "cell_type": "markdown",
      "source": [
        "#### floor() – Round numbers down\n"
      ],
      "metadata": {
        "id": "bKoUh9IWa2E4"
      }
    },
    {
      "cell_type": "code",
      "source": [
        "# Example 1: Floor of a single number\n",
        "floor1 <- floor(3.9)\n",
        "print(floor1)\n",
        "\n",
        "# Example 2: Floor of a vector of numbers\n",
        "floor2 <- floor(c(1.2, 2.5, 3.7))\n",
        "print(floor2)"
      ],
      "metadata": {
        "colab": {
          "base_uri": "https://localhost:8080/"
        },
        "id": "V9Hl7ztcZrEH",
        "outputId": "0cc19ad5-787d-4d16-fd56-c36653a5e4a2"
      },
      "execution_count": null,
      "outputs": [
        {
          "output_type": "stream",
          "name": "stdout",
          "text": [
            "[1] 3\n",
            "[1] 1 2 3\n"
          ]
        }
      ]
    },
    {
      "cell_type": "markdown",
      "source": [
        "#### abs() – Absolute value (remove negative sign)\n"
      ],
      "metadata": {
        "id": "4ZtjXEXBa574"
      }
    },
    {
      "cell_type": "code",
      "source": [
        "# Example 1: Absolute value of a negative number\n",
        "abs1 <- abs(-5)\n",
        "print(abs1)\n",
        "\n",
        "# Example 2: Absolute values in a vector\n",
        "abs2 <- abs(c(-1, -2, 3, -4))\n",
        "print(abs2)"
      ],
      "metadata": {
        "colab": {
          "base_uri": "https://localhost:8080/"
        },
        "id": "6KDXU238ZrBn",
        "outputId": "3b3224aa-e6e1-4ad0-d9e2-f8dac191addc"
      },
      "execution_count": null,
      "outputs": [
        {
          "output_type": "stream",
          "name": "stdout",
          "text": [
            "[1] 5\n",
            "[1] 1 2 3 4\n"
          ]
        }
      ]
    },
    {
      "cell_type": "markdown",
      "source": [
        "#### sqrt() – Square root of a number\n"
      ],
      "metadata": {
        "id": "EQOyyMpTa-ro"
      }
    },
    {
      "cell_type": "code",
      "source": [
        "# Example 1: Square root of a number\n",
        "sqrt1 <- sqrt(16)\n",
        "print(sqrt1)\n",
        "\n",
        "# Example 2: Square root for each element in a vector\n",
        "sqrt2 <- sqrt(c(4, 9, 16))\n",
        "print(sqrt2)"
      ],
      "metadata": {
        "colab": {
          "base_uri": "https://localhost:8080/"
        },
        "id": "QLrAMDVgZq-_",
        "outputId": "e2c1ef37-2807-44bf-b582-65f2999ddae4"
      },
      "execution_count": null,
      "outputs": [
        {
          "output_type": "stream",
          "name": "stdout",
          "text": [
            "[1] 4\n",
            "[1] 2 3 4\n"
          ]
        }
      ]
    },
    {
      "cell_type": "markdown",
      "source": [
        "#### log() – Natural logarithm (base e)\n"
      ],
      "metadata": {
        "id": "EGW91qNFbCYI"
      }
    },
    {
      "cell_type": "code",
      "source": [
        "# Example 1: Logarithm of a number\n",
        "log1 <- log(10)\n",
        "print(log1)\n",
        "\n",
        "# Example 2: Logarithm for a vector of numbers\n",
        "log2 <- log(c(1, 10, 100))\n",
        "print(log2)"
      ],
      "metadata": {
        "colab": {
          "base_uri": "https://localhost:8080/"
        },
        "id": "SWwzdSojZq8X",
        "outputId": "206df52b-9791-4243-f258-ba2f2aafe7f3"
      },
      "execution_count": null,
      "outputs": [
        {
          "output_type": "stream",
          "name": "stdout",
          "text": [
            "[1] 2.302585\n",
            "[1] 0.000000 2.302585 4.605170\n"
          ]
        }
      ]
    },
    {
      "cell_type": "markdown",
      "source": [
        "#### exp() – Exponential function (e raised to the power)\n"
      ],
      "metadata": {
        "id": "N_iEs_FJbGT4"
      }
    },
    {
      "cell_type": "code",
      "source": [
        "# Example 1: Exponential of a number\n",
        "exp1 <- exp(1)\n",
        "print(exp1)\n",
        "\n",
        "# Example 2: Exponential for a vector\n",
        "exp2 <- exp(c(0, 1, 2))\n",
        "print(exp2)"
      ],
      "metadata": {
        "colab": {
          "base_uri": "https://localhost:8080/"
        },
        "id": "0ZnKDaIeZq53",
        "outputId": "7c2c803f-bcec-4f42-c3d8-b8d5ade532cd"
      },
      "execution_count": null,
      "outputs": [
        {
          "output_type": "stream",
          "name": "stdout",
          "text": [
            "[1] 2.718282\n",
            "[1] 1.000000 2.718282 7.389056\n"
          ]
        }
      ]
    },
    {
      "cell_type": "markdown",
      "source": [
        "#### factorial() – Factorial of a number (n!)\n"
      ],
      "metadata": {
        "id": "w2cEYmHeZqpP"
      }
    },
    {
      "cell_type": "code",
      "source": [
        "# Example 1: Factorial of 5\n",
        "fact1 <- factorial(5)\n",
        "print(fact1)\n",
        "\n",
        "# Example 2: Factorial of 0 (by definition 0! = 1)\n",
        "fact2 <- factorial(0)\n",
        "print(fact2)"
      ],
      "metadata": {
        "colab": {
          "base_uri": "https://localhost:8080/"
        },
        "id": "NERjUvypbK1A",
        "outputId": "fb647345-bea5-4da7-8b8e-33c5184bbead"
      },
      "execution_count": null,
      "outputs": [
        {
          "output_type": "stream",
          "name": "stdout",
          "text": [
            "[1] 120\n",
            "[1] 1\n"
          ]
        }
      ]
    },
    {
      "cell_type": "markdown",
      "source": [
        "#### choose() – Binomial coefficient (n choose k)\n"
      ],
      "metadata": {
        "id": "WnBShC9XZqm3"
      }
    },
    {
      "cell_type": "code",
      "source": [
        "# Example 1: How many ways to choose 2 from 5\n",
        "choose1 <- choose(5, 2)\n",
        "print(choose1)\n",
        "\n",
        "# Example 2: Vectorized version (choose for each element)\n",
        "choose2 <- choose(10, 1:5)\n",
        "print(choose2)"
      ],
      "metadata": {
        "colab": {
          "base_uri": "https://localhost:8080/"
        },
        "id": "zKAdrq0bbPBf",
        "outputId": "db930a06-f4ea-4586-970f-a9e72dda59e1"
      },
      "execution_count": null,
      "outputs": [
        {
          "output_type": "stream",
          "name": "stdout",
          "text": [
            "[1] 10\n",
            "[1]  10  45 120 210 252\n"
          ]
        }
      ]
    },
    {
      "cell_type": "markdown",
      "source": [
        "#### sin() – Sine of an angle (in radians)\n"
      ],
      "metadata": {
        "id": "HhyVT_q3Zqkf"
      }
    },
    {
      "cell_type": "code",
      "source": [
        "# Example 1: Sine of 0\n",
        "sin1 <- sin(0)\n",
        "print(sin1)\n",
        "\n",
        "# Example 2: Sine of pi/2\n",
        "sin2 <- sin(pi/2)\n",
        "print(sin2)"
      ],
      "metadata": {
        "colab": {
          "base_uri": "https://localhost:8080/"
        },
        "id": "OdweFAIFbS88",
        "outputId": "7c52a118-8d08-43b7-8a51-3c9e1c403e57"
      },
      "execution_count": null,
      "outputs": [
        {
          "output_type": "stream",
          "name": "stdout",
          "text": [
            "[1] 0\n",
            "[1] 1\n"
          ]
        }
      ]
    },
    {
      "cell_type": "markdown",
      "source": [
        "#### cos() – Cosine of an angle\n"
      ],
      "metadata": {
        "id": "cQkOQ5m0ZqiP"
      }
    },
    {
      "cell_type": "code",
      "source": [
        "# Example 1: Cosine of 0\n",
        "cos1 <- cos(0)\n",
        "print(cos1)\n",
        "\n",
        "# Example 2: Cosine of pi\n",
        "cos2 <- cos(pi)\n",
        "print(cos2)"
      ],
      "metadata": {
        "colab": {
          "base_uri": "https://localhost:8080/"
        },
        "id": "ro6jR9lCbWIY",
        "outputId": "1668c90e-6695-4ed0-ea6e-f270223ca974"
      },
      "execution_count": null,
      "outputs": [
        {
          "output_type": "stream",
          "name": "stdout",
          "text": [
            "[1] 1\n",
            "[1] -1\n"
          ]
        }
      ]
    },
    {
      "cell_type": "markdown",
      "source": [
        "#### tan() – Tangent of an angle\n"
      ],
      "metadata": {
        "id": "7PFJC08RZqgF"
      }
    },
    {
      "cell_type": "code",
      "source": [
        "# Example 1: Tangent of 0\n",
        "tan1 <- tan(0)\n",
        "print(tan1)\n",
        "\n",
        "# Example 2: Tangent of pi/4 (should be 1)\n",
        "tan2 <- tan(pi/4)\n",
        "print(tan2)"
      ],
      "metadata": {
        "colab": {
          "base_uri": "https://localhost:8080/"
        },
        "id": "sAzZeag5baXH",
        "outputId": "2f82e955-7ad0-4e83-c2df-80cd19970ba4"
      },
      "execution_count": null,
      "outputs": [
        {
          "output_type": "stream",
          "name": "stdout",
          "text": [
            "[1] 0\n",
            "[1] 1\n"
          ]
        }
      ]
    },
    {
      "cell_type": "markdown",
      "source": [
        "#### cor() – Correlation between two numeric vectors\n"
      ],
      "metadata": {
        "id": "-2__G7mKZqdf"
      }
    },
    {
      "cell_type": "code",
      "source": [
        "# Example 1: Correlation of two simple vectors\n",
        "cor1 <- cor(c(1, 2, 3), c(4, 5, 6))\n",
        "print(cor1)\n",
        "\n",
        "# Example 2: Correlation from a data frame\n",
        "df_cor <- data.frame(x = 1:5, y = c(2, 4, 6, 8, 10))\n",
        "cor2 <- cor(df_cor$x, df_cor$y)\n",
        "print(cor2)"
      ],
      "metadata": {
        "colab": {
          "base_uri": "https://localhost:8080/"
        },
        "id": "yjH5xybLbh8Y",
        "outputId": "776a3bd1-0491-42e8-98fe-b610adbd928c"
      },
      "execution_count": null,
      "outputs": [
        {
          "output_type": "stream",
          "name": "stdout",
          "text": [
            "[1] 1\n",
            "[1] 1\n"
          ]
        }
      ]
    },
    {
      "cell_type": "markdown",
      "source": [
        "#### cov() – Covariance between two vectors\n"
      ],
      "metadata": {
        "id": "57vWoAfUZqbE"
      }
    },
    {
      "cell_type": "code",
      "source": [
        "# Example 1: Covariance of two vectors\n",
        "cov1 <- cov(c(1, 2, 3), c(4, 5, 6))\n",
        "print(cov1)\n",
        "\n",
        "# Example 2: Covariance from a data frame\n",
        "cov2 <- cov(df_cor$x, df_cor$y)\n",
        "print(cov2)"
      ],
      "metadata": {
        "colab": {
          "base_uri": "https://localhost:8080/"
        },
        "id": "vgQMezt2blWh",
        "outputId": "525b0107-40d9-4ca7-d9ed-26ca5e723be2"
      },
      "execution_count": null,
      "outputs": [
        {
          "output_type": "stream",
          "name": "stdout",
          "text": [
            "[1] 1\n",
            "[1] 5\n"
          ]
        }
      ]
    },
    {
      "cell_type": "markdown",
      "source": [
        "\n",
        "# Data Manipulation\n",
        "\n"
      ],
      "metadata": {
        "id": "okBjZ1PzbrMP"
      }
    },
    {
      "cell_type": "markdown",
      "source": [
        "#### data.frame() – Create a data frame"
      ],
      "metadata": {
        "id": "gPoPNKNhZqZL"
      }
    },
    {
      "cell_type": "code",
      "source": [
        "# Example 1: Create a simple data frame\n",
        "df1 <- data.frame(Name = c(\"Alice\", \"Bob\"), Age = c(25, 30))\n",
        "print(df1)\n",
        "\n",
        "# Example 2: Create a data frame with different types\n",
        "df2 <- data.frame(ID = 1:3, Score = c(90, 85, 88), Passed = c(TRUE, TRUE, FALSE))\n",
        "print(df2)"
      ],
      "metadata": {
        "colab": {
          "base_uri": "https://localhost:8080/"
        },
        "id": "5fr0xWyIbpew",
        "outputId": "4821cc38-f5c3-411d-a7fe-832acd76fa49"
      },
      "execution_count": null,
      "outputs": [
        {
          "output_type": "stream",
          "name": "stdout",
          "text": [
            "   Name Age\n",
            "1 Alice  25\n",
            "2   Bob  30\n",
            "  ID Score Passed\n",
            "1  1    90   TRUE\n",
            "2  2    85   TRUE\n",
            "3  3    88  FALSE\n"
          ]
        }
      ]
    },
    {
      "cell_type": "markdown",
      "source": [
        "#### list() – Create a list (a container for different objects)\n"
      ],
      "metadata": {
        "id": "3tDS4I74ZqWg"
      }
    },
    {
      "cell_type": "code",
      "source": [
        "# Example 1: Create a list with mixed types\n",
        "my_list1 <- list(num = 1, word = \"hello\", flag = TRUE)\n",
        "print(my_list1)\n",
        "\n",
        "# Example 2: Create a nested list\n",
        "my_list2 <- list(a = 1:3, b = list(inner = c(\"x\", \"y\")))\n",
        "print(my_list2)"
      ],
      "metadata": {
        "colab": {
          "base_uri": "https://localhost:8080/"
        },
        "id": "PhOKsDLFbzKn",
        "outputId": "32bafb45-71a7-4e1a-ff23-67d9da2b319e"
      },
      "execution_count": null,
      "outputs": [
        {
          "output_type": "stream",
          "name": "stdout",
          "text": [
            "$num\n",
            "[1] 1\n",
            "\n",
            "$word\n",
            "[1] \"hello\"\n",
            "\n",
            "$flag\n",
            "[1] TRUE\n",
            "\n",
            "$a\n",
            "[1] 1 2 3\n",
            "\n",
            "$b\n",
            "$b$inner\n",
            "[1] \"x\" \"y\"\n",
            "\n",
            "\n"
          ]
        }
      ]
    },
    {
      "cell_type": "markdown",
      "source": [
        "#### matrix() – Create a matrix from a vector\n"
      ],
      "metadata": {
        "id": "hNAW-qb_b3g4"
      }
    },
    {
      "cell_type": "code",
      "source": [
        "# Example 1: Create a 3x3 matrix\n",
        "mat1 <- matrix(1:9, nrow = 3, ncol = 3)\n",
        "print(mat1)\n",
        "\n",
        "# Example 2: Create a matrix by filling by row\n",
        "mat2 <- matrix(1:9, nrow = 3, byrow = TRUE)\n",
        "print(mat2)"
      ],
      "metadata": {
        "colab": {
          "base_uri": "https://localhost:8080/"
        },
        "id": "2Cp6kLf_bzIT",
        "outputId": "e2bdde15-c436-4b30-cfb0-149c2160ea31"
      },
      "execution_count": null,
      "outputs": [
        {
          "output_type": "stream",
          "name": "stdout",
          "text": [
            "     [,1] [,2] [,3]\n",
            "[1,]    1    4    7\n",
            "[2,]    2    5    8\n",
            "[3,]    3    6    9\n",
            "     [,1] [,2] [,3]\n",
            "[1,]    1    2    3\n",
            "[2,]    4    5    6\n",
            "[3,]    7    8    9\n"
          ]
        }
      ]
    },
    {
      "cell_type": "markdown",
      "source": [
        "#### array() – Create an array (multi-dimensional)\n"
      ],
      "metadata": {
        "id": "7_PtuIQWb6_w"
      }
    },
    {
      "cell_type": "code",
      "source": [
        "# Example 1: Create a 3D array (2x2x3)\n",
        "arr1 <- array(1:12, dim = c(2, 2, 3))\n",
        "print(arr1)\n",
        "\n",
        "# Example 2: Create a 2D array (same as a matrix)\n",
        "arr2 <- array(1:6, dim = c(2, 3))\n",
        "print(arr2)"
      ],
      "metadata": {
        "colab": {
          "base_uri": "https://localhost:8080/"
        },
        "id": "cNvCrA0fbzF0",
        "outputId": "a7deb9a0-b649-4794-fa1a-4eee0ffec48c"
      },
      "execution_count": null,
      "outputs": [
        {
          "output_type": "stream",
          "name": "stdout",
          "text": [
            ", , 1\n",
            "\n",
            "     [,1] [,2]\n",
            "[1,]    1    3\n",
            "[2,]    2    4\n",
            "\n",
            ", , 2\n",
            "\n",
            "     [,1] [,2]\n",
            "[1,]    5    7\n",
            "[2,]    6    8\n",
            "\n",
            ", , 3\n",
            "\n",
            "     [,1] [,2]\n",
            "[1,]    9   11\n",
            "[2,]   10   12\n",
            "\n",
            "     [,1] [,2] [,3]\n",
            "[1,]    1    3    5\n",
            "[2,]    2    4    6\n"
          ]
        }
      ]
    },
    {
      "cell_type": "markdown",
      "source": [
        "#### t() – Transpose a matrix (flip rows and columns)\n"
      ],
      "metadata": {
        "id": "6JFP8L6_b-vg"
      }
    },
    {
      "cell_type": "code",
      "source": [
        "# Example 1: Transpose a simple matrix\n",
        "mat3 <- matrix(1:6, nrow = 2)\n",
        "t_mat3 <- t(mat3)\n",
        "print(t_mat3)\n",
        "\n",
        "# Example 2: Transpose a data frame converted to a matrix\n",
        "df_mat <- data.frame(A = 1:3, B = 4:6)\n",
        "t_df <- t(as.matrix(df_mat))\n",
        "print(t_df)"
      ],
      "metadata": {
        "colab": {
          "base_uri": "https://localhost:8080/"
        },
        "id": "LtDKjcBDbzDf",
        "outputId": "7d1c2238-066b-483d-cba1-dd946f6fc4cd"
      },
      "execution_count": null,
      "outputs": [
        {
          "output_type": "stream",
          "name": "stdout",
          "text": [
            "     [,1] [,2]\n",
            "[1,]    1    2\n",
            "[2,]    3    4\n",
            "[3,]    5    6\n",
            "  [,1] [,2] [,3]\n",
            "A    1    2    3\n",
            "B    4    5    6\n"
          ]
        }
      ]
    },
    {
      "cell_type": "markdown",
      "source": [
        "#### rbind() – Row bind (stack rows together)\n"
      ],
      "metadata": {
        "id": "-ncl7mLmcB0P"
      }
    },
    {
      "cell_type": "code",
      "source": [
        "# Example 1: Combine two vectors as rows\n",
        "row1 <- c(1, 2, 3)\n",
        "row2 <- c(4, 5, 6)\n",
        "rbind1 <- rbind(row1, row2)\n",
        "print(rbind1)\n",
        "\n",
        "# Example 2: Row bind two data frames with the same columns\n",
        "df_a <- data.frame(Name = c(\"Tom\"), Age = 20)\n",
        "df_b <- data.frame(Name = c(\"Jerry\"), Age = 22)\n",
        "rbind2 <- rbind(df_a, df_b)\n",
        "print(rbind2)"
      ],
      "metadata": {
        "colab": {
          "base_uri": "https://localhost:8080/"
        },
        "id": "x5u45bw6bzBI",
        "outputId": "48ec4351-7ff0-4a97-86b3-1f706991e295"
      },
      "execution_count": null,
      "outputs": [
        {
          "output_type": "stream",
          "name": "stdout",
          "text": [
            "     [,1] [,2] [,3]\n",
            "row1    1    2    3\n",
            "row2    4    5    6\n",
            "   Name Age\n",
            "1   Tom  20\n",
            "2 Jerry  22\n"
          ]
        }
      ]
    },
    {
      "cell_type": "markdown",
      "source": [
        "#### cbind() – Column bind (attach columns side by side)\n"
      ],
      "metadata": {
        "id": "lV6oqsTXcGHR"
      }
    },
    {
      "cell_type": "code",
      "source": [
        "# Example 1: Combine two vectors as columns\n",
        "col1 <- c(1, 2, 3)\n",
        "col2 <- c(4, 5, 6)\n",
        "cbind1 <- cbind(col1, col2)\n",
        "print(cbind1)\n",
        "\n",
        "# Example 2: Column bind two data frames (they must have the same number of rows)\n",
        "df_c <- data.frame(A = 1:3)\n",
        "df_d <- data.frame(B = 4:6)\n",
        "cbind2 <- cbind(df_c, df_d)\n",
        "print(cbind2)"
      ],
      "metadata": {
        "colab": {
          "base_uri": "https://localhost:8080/"
        },
        "id": "5s9-p00xby-r",
        "outputId": "2523b004-0460-496c-af34-6edf26f7b897"
      },
      "execution_count": null,
      "outputs": [
        {
          "output_type": "stream",
          "name": "stdout",
          "text": [
            "     col1 col2\n",
            "[1,]    1    4\n",
            "[2,]    2    5\n",
            "[3,]    3    6\n",
            "  A B\n",
            "1 1 4\n",
            "2 2 5\n",
            "3 3 6\n"
          ]
        }
      ]
    },
    {
      "cell_type": "markdown",
      "source": [
        "#### dim() – Get dimensions of a matrix or data frame\n"
      ],
      "metadata": {
        "id": "BDtnJOwCcLbn"
      }
    },
    {
      "cell_type": "code",
      "source": [
        "# Example 1: Get dimensions of a matrix\n",
        "dim1 <- dim(mat1)\n",
        "print(dim1)\n",
        "\n",
        "# Example 2: Get dimensions of a data frame\n",
        "dim2 <- dim(df1)\n",
        "print(dim2)"
      ],
      "metadata": {
        "colab": {
          "base_uri": "https://localhost:8080/"
        },
        "id": "-SXCUrWFby8T",
        "outputId": "866f9629-4537-41e0-8da3-c28e13dcad10"
      },
      "execution_count": null,
      "outputs": [
        {
          "output_type": "stream",
          "name": "stdout",
          "text": [
            "[1] 3 3\n",
            "[1] 2 2\n"
          ]
        }
      ]
    },
    {
      "cell_type": "markdown",
      "source": [
        "#### nrow() – Number of rows\n"
      ],
      "metadata": {
        "id": "qVttEefEcPf_"
      }
    },
    {
      "cell_type": "code",
      "source": [
        "# Example 1: Number of rows in a data frame\n",
        "nrow1 <- nrow(df1)\n",
        "print(nrow1)\n",
        "\n",
        "# Example 2: Number of rows in a matrix\n",
        "nrow2 <- nrow(mat1)\n",
        "print(nrow2)"
      ],
      "metadata": {
        "colab": {
          "base_uri": "https://localhost:8080/"
        },
        "id": "ZasVMAhxby6G",
        "outputId": "5f52c3b9-fcc9-4b65-f4e1-6c896eeda9cc"
      },
      "execution_count": null,
      "outputs": [
        {
          "output_type": "stream",
          "name": "stdout",
          "text": [
            "[1] 2\n",
            "[1] 3\n"
          ]
        }
      ]
    },
    {
      "cell_type": "markdown",
      "source": [
        "#### ncol() – Number of columns\n"
      ],
      "metadata": {
        "id": "6pMD_O2ucTaK"
      }
    },
    {
      "cell_type": "code",
      "source": [
        "# Example 1: Number of columns in a data frame\n",
        "ncol1 <- ncol(df1)\n",
        "print(ncol1)\n",
        "\n",
        "# Example 2: Number of columns in a matrix\n",
        "ncol2 <- ncol(mat1)\n",
        "print(ncol2)"
      ],
      "metadata": {
        "colab": {
          "base_uri": "https://localhost:8080/"
        },
        "id": "fiAulRFTby3w",
        "outputId": "5acd79a1-d4a8-4868-ba33-fc3cddb45b97"
      },
      "execution_count": null,
      "outputs": [
        {
          "output_type": "stream",
          "name": "stdout",
          "text": [
            "[1] 2\n",
            "[1] 3\n"
          ]
        }
      ]
    },
    {
      "cell_type": "markdown",
      "source": [
        "#### names() – Get or set names of a vector or list\n"
      ],
      "metadata": {
        "id": "EEnK1XDccWiw"
      }
    },
    {
      "cell_type": "code",
      "source": [
        "# Example 1: Get names from a data frame\n",
        "names1 <- names(df1)\n",
        "print(names1)\n",
        "\n",
        "# Example 2: Set names of a vector\n",
        "vec_named <- c(10, 20, 30)\n",
        "names(vec_named) <- c(\"first\", \"second\", \"third\")\n",
        "print(vec_named)"
      ],
      "metadata": {
        "colab": {
          "base_uri": "https://localhost:8080/"
        },
        "id": "tm2KwKBSby16",
        "outputId": "6ff33852-2416-48cd-e0be-0894a209cb2b"
      },
      "execution_count": null,
      "outputs": [
        {
          "output_type": "stream",
          "name": "stdout",
          "text": [
            "[1] \"Name\" \"Age\" \n",
            " first second  third \n",
            "    10     20     30 \n"
          ]
        }
      ]
    },
    {
      "cell_type": "markdown",
      "source": [
        "#### colnames() – Get or set column names of a matrix/data frame\n"
      ],
      "metadata": {
        "id": "xgf6zQ2acaDZ"
      }
    },
    {
      "cell_type": "code",
      "source": [
        "# Example 1: Get column names of a data frame\n",
        "cols1 <- colnames(df2)\n",
        "print(cols1)\n",
        "\n",
        "# Example 2: Set column names of a matrix\n",
        "mat4 <- matrix(1:4, nrow = 2)\n",
        "colnames(mat4) <- c(\"Col1\", \"Col2\")\n",
        "print(mat4)"
      ],
      "metadata": {
        "colab": {
          "base_uri": "https://localhost:8080/"
        },
        "id": "eiXQoZO0byzf",
        "outputId": "37fb57e5-c9cc-4ec8-99e6-260ad3a3f26b"
      },
      "execution_count": null,
      "outputs": [
        {
          "output_type": "stream",
          "name": "stdout",
          "text": [
            "[1] \"ID\"     \"Score\"  \"Passed\"\n",
            "     Col1 Col2\n",
            "[1,]    1    3\n",
            "[2,]    2    4\n"
          ]
        }
      ]
    },
    {
      "cell_type": "markdown",
      "source": [
        "#### rownames() – Get or set row names of a matrix/data frame\n"
      ],
      "metadata": {
        "id": "lxw_yWElccuo"
      }
    },
    {
      "cell_type": "code",
      "source": [
        "# Example 1: Get row names of a data frame\n",
        "rows1 <- rownames(df1)\n",
        "print(rows1)\n",
        "\n",
        "# Example 2: Set row names of a matrix\n",
        "rownames(mat4) <- c(\"Row1\", \"Row2\")\n",
        "print(mat4)"
      ],
      "metadata": {
        "colab": {
          "base_uri": "https://localhost:8080/"
        },
        "id": "AN6b8w9gbyxP",
        "outputId": "d524fb87-0dae-4f06-b3cd-bcf67f8add0a"
      },
      "execution_count": null,
      "outputs": [
        {
          "output_type": "stream",
          "name": "stdout",
          "text": [
            "[1] \"1\" \"2\"\n",
            "     Col1 Col2\n",
            "Row1    1    3\n",
            "Row2    2    4\n"
          ]
        }
      ]
    },
    {
      "cell_type": "markdown",
      "source": [
        "#### subset() – Select part of data based on conditions\n"
      ],
      "metadata": {
        "id": "FSx5Tzescgq5"
      }
    },
    {
      "cell_type": "code",
      "source": [
        "# Example 1: Subset rows where Age > 25\n",
        "subset1 <- subset(df2, Score > 85)\n",
        "print(subset1)\n",
        "\n",
        "# Example 2: Subset specific columns\n",
        "subset2 <- subset(df2, select = c(ID, Passed))\n",
        "print(subset2)"
      ],
      "metadata": {
        "colab": {
          "base_uri": "https://localhost:8080/"
        },
        "id": "eKM8v-9Wbyuv",
        "outputId": "4740cc66-6a2b-4212-b204-eb894413a298"
      },
      "execution_count": null,
      "outputs": [
        {
          "output_type": "stream",
          "name": "stdout",
          "text": [
            "  ID Score Passed\n",
            "1  1    90   TRUE\n",
            "3  3    88  FALSE\n",
            "  ID Passed\n",
            "1  1   TRUE\n",
            "2  2   TRUE\n",
            "3  3  FALSE\n"
          ]
        }
      ]
    },
    {
      "cell_type": "markdown",
      "source": [
        "#### merge() – Merge two data frames by a common column\n"
      ],
      "metadata": {
        "id": "O_bl2a9GcmBH"
      }
    },
    {
      "cell_type": "code",
      "source": [
        "# Example 1: Merge on a common key\n",
        "df_left <- data.frame(ID = 1:3, Name = c(\"A\", \"B\", \"C\"))\n",
        "df_right <- data.frame(ID = c(2, 3, 4), Score = c(90, 85, 88))\n",
        "merge1 <- merge(df_left, df_right, by = \"ID\")\n",
        "print(merge1)\n",
        "\n",
        "# Example 2: Merge with all rows kept (full outer join)\n",
        "merge2 <- merge(df_left, df_right, by = \"ID\", all = TRUE)\n",
        "print(merge2)"
      ],
      "metadata": {
        "colab": {
          "base_uri": "https://localhost:8080/"
        },
        "id": "wzqpJBDzbyo3",
        "outputId": "7a46c4bd-7a4d-43bb-c9cc-502aeb138783"
      },
      "execution_count": null,
      "outputs": [
        {
          "output_type": "stream",
          "name": "stdout",
          "text": [
            "  ID Name Score\n",
            "1  2    B    90\n",
            "2  3    C    85\n",
            "  ID Name Score\n",
            "1  1    A    NA\n",
            "2  2    B    90\n",
            "3  3    C    85\n",
            "4  4 <NA>    88\n"
          ]
        }
      ]
    },
    {
      "cell_type": "markdown",
      "source": [
        "#### apply() – Apply a function over rows or columns of a matrix\n"
      ],
      "metadata": {
        "id": "TOPkGPXCco4I"
      }
    },
    {
      "cell_type": "code",
      "source": [
        "# Example 1: Sum each row of a matrix\n",
        "apply1 <- apply(mat1, 1, sum)\n",
        "print(apply1)\n",
        "\n",
        "# Example 2: Mean of each column\n",
        "apply2 <- apply(mat1, 2, mean)\n",
        "print(apply2)"
      ],
      "metadata": {
        "colab": {
          "base_uri": "https://localhost:8080/"
        },
        "id": "sUZTp4mrbymf",
        "outputId": "70fcaeaf-cd3e-4a6f-f6fb-1798401469bc"
      },
      "execution_count": null,
      "outputs": [
        {
          "output_type": "stream",
          "name": "stdout",
          "text": [
            "[1] 12 15 18\n",
            "[1] 2 5 8\n"
          ]
        }
      ]
    },
    {
      "cell_type": "markdown",
      "source": [
        "#### lapply() – Apply a function to each element of a list, returning a list\n"
      ],
      "metadata": {
        "id": "sjBQ2Cn_ZqUA"
      }
    },
    {
      "cell_type": "code",
      "source": [
        "# Example 1: Get the length of each element in a list\n",
        "lapply1 <- lapply(list(\"apple\", \"banana\", \"cherry\"), nchar)\n",
        "print(lapply1)\n",
        "\n",
        "# Example 2: Square each number in a list\n",
        "lapply2 <- lapply(list(1, 2, 3), function(x) x^2)\n",
        "print(lapply2)"
      ],
      "metadata": {
        "colab": {
          "base_uri": "https://localhost:8080/"
        },
        "id": "4wo1nWRGcvhw",
        "outputId": "031da135-6c05-4499-820d-16395942ea9a"
      },
      "execution_count": null,
      "outputs": [
        {
          "output_type": "stream",
          "name": "stdout",
          "text": [
            "[[1]]\n",
            "[1] 5\n",
            "\n",
            "[[2]]\n",
            "[1] 6\n",
            "\n",
            "[[3]]\n",
            "[1] 6\n",
            "\n",
            "[[1]]\n",
            "[1] 1\n",
            "\n",
            "[[2]]\n",
            "[1] 4\n",
            "\n",
            "[[3]]\n",
            "[1] 9\n",
            "\n"
          ]
        }
      ]
    },
    {
      "cell_type": "markdown",
      "source": [
        "#### sapply() – Like lapply but try to simplify the result\n"
      ],
      "metadata": {
        "id": "Xue_Cz6OZqRs"
      }
    },
    {
      "cell_type": "code",
      "source": [
        "# Example 1: Get string lengths for a list of words\n",
        "sapply1 <- sapply(c(\"apple\", \"banana\", \"cherry\"), nchar)\n",
        "print(sapply1)\n",
        "\n",
        "# Example 2: Square numbers in a vector\n",
        "sapply2 <- sapply(c(1, 2, 3), function(x) x^2)\n",
        "print(sapply2)"
      ],
      "metadata": {
        "colab": {
          "base_uri": "https://localhost:8080/"
        },
        "id": "oey8J55Cczov",
        "outputId": "22f9c9f5-7b82-471e-ba45-752d29e4c8a0"
      },
      "execution_count": null,
      "outputs": [
        {
          "output_type": "stream",
          "name": "stdout",
          "text": [
            " apple banana cherry \n",
            "     5      6      6 \n",
            "[1] 1 4 9\n"
          ]
        }
      ]
    },
    {
      "cell_type": "markdown",
      "source": [
        "#### tapply() – Apply a function over subsets of a vector\n"
      ],
      "metadata": {
        "id": "qhrJw4OuZqPH"
      }
    },
    {
      "cell_type": "code",
      "source": [
        "# Example 1: Calculate mean by group\n",
        "group <- c(\"A\", \"B\", \"A\", \"B\")\n",
        "values <- c(10, 20, 30, 40)\n",
        "tapply1 <- tapply(values, group, mean)\n",
        "print(tapply1)\n",
        "\n",
        "# Example 2: Sum by group\n",
        "tapply2 <- tapply(values, group, sum)\n",
        "print(tapply2)"
      ],
      "metadata": {
        "colab": {
          "base_uri": "https://localhost:8080/"
        },
        "id": "ZB9hWHhjSgxP",
        "outputId": "5e81f48b-24c1-41a4-87af-3ada8d22aa71"
      },
      "execution_count": null,
      "outputs": [
        {
          "output_type": "stream",
          "name": "stdout",
          "text": [
            " A  B \n",
            "20 30 \n",
            " A  B \n",
            "40 60 \n"
          ]
        }
      ]
    },
    {
      "cell_type": "markdown",
      "source": [
        "#### aggregate() – Aggregate data by groups\n"
      ],
      "metadata": {
        "id": "sONDgszAc5DP"
      }
    },
    {
      "cell_type": "code",
      "source": [
        "# Example 1: Aggregate sum by group\n",
        "agg1 <- aggregate(values, by = list(group), FUN = sum)\n",
        "print(agg1)\n",
        "\n",
        "# Example 2: Aggregate mean by group\n",
        "agg2 <- aggregate(values, by = list(group), FUN = mean)\n",
        "print(agg2)"
      ],
      "metadata": {
        "id": "j1EbUie2c4rB"
      },
      "execution_count": null,
      "outputs": []
    },
    {
      "cell_type": "markdown",
      "source": [
        "#### split() – Split data into groups\n"
      ],
      "metadata": {
        "id": "sbWn_hgXdQuw"
      }
    },
    {
      "cell_type": "code",
      "source": [
        "# Example 1: Split a vector by a factor\n",
        "split1 <- split(c(1, 2, 3, 4), group)\n",
        "print(split1)\n",
        "\n",
        "# Example 2: Split a data frame by a column\n",
        "split2 <- split(df2, df2$Passed)\n",
        "print(split2)"
      ],
      "metadata": {
        "colab": {
          "base_uri": "https://localhost:8080/"
        },
        "id": "AswBwJNQc_wY",
        "outputId": "9c83667a-3dad-4c5b-df1b-bb6478acaea0"
      },
      "execution_count": null,
      "outputs": [
        {
          "output_type": "stream",
          "name": "stdout",
          "text": [
            "$A\n",
            "[1] 1 3\n",
            "\n",
            "$B\n",
            "[1] 2 4\n",
            "\n",
            "$`FALSE`\n",
            "  ID Score Passed\n",
            "3  3    88  FALSE\n",
            "\n",
            "$`TRUE`\n",
            "  ID Score Passed\n",
            "1  1    90   TRUE\n",
            "2  2    85   TRUE\n",
            "\n"
          ]
        }
      ]
    },
    {
      "cell_type": "markdown",
      "source": [
        "#### stack() – Stack data frame columns into key-value pairs\n"
      ],
      "metadata": {
        "id": "LaaIorpodV2v"
      }
    },
    {
      "cell_type": "code",
      "source": [
        "# Example 1: Stack a data frame\n",
        "stack1 <- stack(df1)\n",
        "print(stack1)\n",
        "\n",
        "# Example 2: Stack a different data frame\n",
        "stack2 <- stack(df2)\n",
        "print(stack2)"
      ],
      "metadata": {
        "colab": {
          "base_uri": "https://localhost:8080/"
        },
        "id": "WwM1ky6Bc_pY",
        "outputId": "044c5e9a-321b-457f-ab12-a3b71a7bc4d3"
      },
      "execution_count": null,
      "outputs": [
        {
          "output_type": "stream",
          "name": "stdout",
          "text": [
            "  values  ind\n",
            "1  Alice Name\n",
            "2    Bob Name\n",
            "3     25  Age\n",
            "4     30  Age\n",
            "  values    ind\n",
            "1      1     ID\n",
            "2      2     ID\n",
            "3      3     ID\n",
            "4     90  Score\n",
            "5     85  Score\n",
            "6     88  Score\n",
            "7      1 Passed\n",
            "8      1 Passed\n",
            "9      0 Passed\n"
          ]
        }
      ]
    },
    {
      "cell_type": "markdown",
      "source": [
        "#### unstack() – Reverse of stack (spread key-value pairs back to columns)\n"
      ],
      "metadata": {
        "id": "ukHT_pl5dZAx"
      }
    },
    {
      "cell_type": "code",
      "source": [
        "# Example 1: Unstack the previous stacked data frame\n",
        "unstack1 <- unstack(stack1)\n",
        "print(unstack1)\n",
        "\n",
        "# Example 2: Unstack a different stacked data frame\n",
        "unstack2 <- unstack(stack2)\n",
        "print(unstack2)"
      ],
      "metadata": {
        "colab": {
          "base_uri": "https://localhost:8080/"
        },
        "id": "0rVTjGuvc_h3",
        "outputId": "86077d91-22d1-43f6-8f11-67fa1a697d88"
      },
      "execution_count": null,
      "outputs": [
        {
          "output_type": "stream",
          "name": "stdout",
          "text": [
            "   Name Age\n",
            "1 Alice  25\n",
            "2   Bob  30\n",
            "  ID Score Passed\n",
            "1  1    90      1\n",
            "2  2    85      1\n",
            "3  3    88      0\n"
          ]
        }
      ]
    },
    {
      "cell_type": "markdown",
      "source": [
        "#### reshape() – Reshape data between wide and long formats\n"
      ],
      "metadata": {
        "id": "PGr-s735dcqA"
      }
    },
    {
      "cell_type": "code",
      "source": [
        "# Example 1: Reshape wide to long\n",
        "df_wide <- data.frame(id = 1:2, time1 = c(10, 20), time2 = c(30, 40))\n",
        "df_long <- reshape(df_wide, varying = c(\"time1\", \"time2\"),\n",
        "                   v.names = \"score\", timevar = \"time\",\n",
        "                   times = c(1, 2), direction = \"long\")\n",
        "print(df_long)\n",
        "\n",
        "# Example 2: Reshape long back to wide\n",
        "df_wide2 <- reshape(df_long, idvar = \"id\", timevar = \"time\", direction = \"wide\")\n",
        "print(df_wide2)"
      ],
      "metadata": {
        "colab": {
          "base_uri": "https://localhost:8080/"
        },
        "id": "qXKB3dWFc_aH",
        "outputId": "6b28176f-a383-4f89-dbc7-79f098069c26"
      },
      "execution_count": null,
      "outputs": [
        {
          "output_type": "stream",
          "name": "stdout",
          "text": [
            "    id time score\n",
            "1.1  1    1    10\n",
            "2.1  2    1    20\n",
            "1.2  1    2    30\n",
            "2.2  2    2    40\n",
            "    id score.1 score.2\n",
            "1.1  1      10      30\n",
            "2.1  2      20      40\n"
          ]
        }
      ]
    },
    {
      "cell_type": "markdown",
      "source": [
        "\n",
        "# Control Flow & Programming\n"
      ],
      "metadata": {
        "id": "ldEheMpNdhro"
      }
    },
    {
      "cell_type": "markdown",
      "source": [
        "#### ifelse() – Vectorized if-else (works on each element)\n"
      ],
      "metadata": {
        "id": "tTY0BR_Tdro2"
      }
    },
    {
      "cell_type": "code",
      "source": [
        "# Example 1: Check if numbers are even or odd\n",
        "result1 <- ifelse(c(1, 2, 3, 4) %% 2 == 0, \"even\", \"odd\")\n",
        "print(result1)\n",
        "\n",
        "# Example 2: Mark values above 5 as \"high\", others \"low\"\n",
        "result2 <- ifelse(c(3, 6, 9), \"high\", \"low\")\n",
        "print(result2)"
      ],
      "metadata": {
        "colab": {
          "base_uri": "https://localhost:8080/"
        },
        "id": "FKGKk0Wcdek7",
        "outputId": "1f32e320-d60a-4461-89a4-38997df1b6bb"
      },
      "execution_count": null,
      "outputs": [
        {
          "output_type": "stream",
          "name": "stdout",
          "text": [
            "[1] \"odd\"  \"even\" \"odd\"  \"even\"\n",
            "[1] \"high\" \"high\" \"high\"\n"
          ]
        }
      ]
    },
    {
      "cell_type": "markdown",
      "source": [
        "#### if ... else – Conditional statements\n"
      ],
      "metadata": {
        "id": "sk1a4YgvePZg"
      }
    },
    {
      "cell_type": "code",
      "source": [
        "# Example 1: Simple if-else statement\n",
        "x <- 10\n",
        "if (x > 5) {\n",
        "  print(\"x is greater than 5\")\n",
        "} else {\n",
        "  print(\"x is not greater than 5\")\n",
        "}\n",
        "\n",
        "# Example 2: Using if-else inside a function\n",
        "check_number <- function(num) {\n",
        "  if (num < 0) {\n",
        "    return(\"Negative\")\n",
        "  } else {\n",
        "    return(\"Non-negative\")\n",
        "  }\n",
        "}\n",
        "print(check_number(-3))\n",
        "print(check_number(4))"
      ],
      "metadata": {
        "colab": {
          "base_uri": "https://localhost:8080/"
        },
        "id": "PsXMxYo9denp",
        "outputId": "ef4ffc2d-0089-4b37-c4b6-8a13d7148de0"
      },
      "execution_count": null,
      "outputs": [
        {
          "output_type": "stream",
          "name": "stdout",
          "text": [
            "[1] \"x is greater than 5\"\n",
            "[1] \"Negative\"\n",
            "[1] \"Non-negative\"\n"
          ]
        }
      ]
    },
    {
      "cell_type": "markdown",
      "source": [
        "#### for – Loop over a sequence\n"
      ],
      "metadata": {
        "id": "-GnT9hK7eUCA"
      }
    },
    {
      "cell_type": "code",
      "source": [
        "# Example 1: Print numbers 1 to 5\n",
        "for (i in 1:5) {\n",
        "  print(i)\n",
        "}\n",
        "\n",
        "# Example 2: Loop over elements in a vector\n",
        "vec_loop <- c(\"a\", \"b\", \"c\")\n",
        "for (letter in vec_loop) {\n",
        "  print(letter)\n",
        "}"
      ],
      "metadata": {
        "colab": {
          "base_uri": "https://localhost:8080/"
        },
        "id": "Fgp_VHtnSlpW",
        "outputId": "17b21565-823b-43f0-81f7-c83584fa086b"
      },
      "execution_count": null,
      "outputs": [
        {
          "output_type": "stream",
          "name": "stdout",
          "text": [
            "[1] 1\n",
            "[1] 2\n",
            "[1] 3\n",
            "[1] 4\n",
            "[1] 5\n",
            "[1] \"a\"\n",
            "[1] \"b\"\n",
            "[1] \"c\"\n"
          ]
        }
      ]
    },
    {
      "cell_type": "markdown",
      "source": [
        "#### while – Loop while condition is true\n"
      ],
      "metadata": {
        "id": "zU9wG1HjeW9o"
      }
    },
    {
      "cell_type": "code",
      "source": [
        "# Example 1: Count from 1 until 5\n",
        "counter <- 1\n",
        "while (counter <= 5) {\n",
        "  print(counter)\n",
        "  counter <- counter + 1\n",
        "}\n",
        "\n",
        "# Example 2: Decrease a value until it is less than 0\n",
        "val <- 3\n",
        "while (val >= 0) {\n",
        "  print(val)\n",
        "  val <- val - 1\n",
        "}\n"
      ],
      "metadata": {
        "colab": {
          "base_uri": "https://localhost:8080/"
        },
        "id": "nta5_Hu0So9O",
        "outputId": "5273a1e4-f7d2-4585-e224-1583bb14871a"
      },
      "execution_count": null,
      "outputs": [
        {
          "output_type": "stream",
          "name": "stdout",
          "text": [
            "[1] 1\n",
            "[1] 2\n",
            "[1] 3\n",
            "[1] 4\n",
            "[1] 5\n",
            "[1] 3\n",
            "[1] 2\n",
            "[1] 1\n",
            "[1] 0\n"
          ]
        }
      ]
    },
    {
      "cell_type": "markdown",
      "source": [
        "#### repeat – Loop indefinitely until a break is encountered\n"
      ],
      "metadata": {
        "id": "VMmTB0Geea_v"
      }
    },
    {
      "cell_type": "code",
      "source": [
        "# Example 1: Use repeat loop to count until 3\n",
        "count <- 1\n",
        "repeat {\n",
        "  print(count)\n",
        "  count <- count + 1\n",
        "  if (count > 3) break\n",
        "}\n",
        "\n",
        "# Example 2: Another repeat example with a condition\n",
        "i <- 10\n",
        "repeat {\n",
        "  i <- i - 2\n",
        "  print(i)\n",
        "  if (i <= 4) break\n",
        "}"
      ],
      "metadata": {
        "colab": {
          "base_uri": "https://localhost:8080/"
        },
        "id": "lVib2jOgSsYG",
        "outputId": "eccaa53f-84b7-403e-d86c-5946e39c9934"
      },
      "execution_count": null,
      "outputs": [
        {
          "output_type": "stream",
          "name": "stdout",
          "text": [
            "[1] 1\n",
            "[1] 2\n",
            "[1] 3\n",
            "[1] 8\n",
            "[1] 6\n",
            "[1] 4\n"
          ]
        }
      ]
    },
    {
      "cell_type": "markdown",
      "source": [
        "#### break – Exit a loop immediately\n"
      ],
      "metadata": {
        "id": "IzCADU-dee2P"
      }
    },
    {
      "cell_type": "code",
      "source": [
        "# Example: Use break inside a for loop when condition met\n",
        "for (i in 1:10) {\n",
        "  if (i == 6) {\n",
        "    break  # exit loop when i is 6\n",
        "  }\n",
        "  print(i)\n",
        "}"
      ],
      "metadata": {
        "colab": {
          "base_uri": "https://localhost:8080/"
        },
        "id": "kAyrnlMqec1i",
        "outputId": "7befca29-a67a-4bab-a918-68c6c88d8606"
      },
      "execution_count": null,
      "outputs": [
        {
          "output_type": "stream",
          "name": "stdout",
          "text": [
            "[1] 1\n",
            "[1] 2\n",
            "[1] 3\n",
            "[1] 4\n",
            "[1] 5\n"
          ]
        }
      ]
    },
    {
      "cell_type": "markdown",
      "source": [
        "#### next – Skip to next iteration in a loop\n"
      ],
      "metadata": {
        "id": "ra6hP08keizg"
      }
    },
    {
      "cell_type": "code",
      "source": [
        "# Example: Skip printing the number 3 in a loop\n",
        "for (i in 1:5) {\n",
        "  if (i == 3) {\n",
        "    next  # skip the rest of this loop cycle\n",
        "  }\n",
        "  print(i)\n",
        "}"
      ],
      "metadata": {
        "colab": {
          "base_uri": "https://localhost:8080/"
        },
        "id": "5iq0OEDZSw0X",
        "outputId": "7dde49c6-47b2-4ff8-d7fd-0c073fb73516"
      },
      "execution_count": null,
      "outputs": [
        {
          "output_type": "stream",
          "name": "stdout",
          "text": [
            "[1] 1\n",
            "[1] 2\n",
            "[1] 4\n",
            "[1] 5\n"
          ]
        }
      ]
    },
    {
      "cell_type": "markdown",
      "source": [
        "#### function() – Define a function\n"
      ],
      "metadata": {
        "id": "W9KhSDs7ekYI"
      }
    },
    {
      "cell_type": "code",
      "source": [
        "# Example 1: A simple function that adds two numbers\n",
        "add_two <- function(a, b) {\n",
        "  return(a + b)\n",
        "}\n",
        "print(add_two(3, 5))\n",
        "\n",
        "# Example 2: Function with a default parameter\n",
        "greet <- function(name = \"friend\") {\n",
        "  paste(\"Hello\", name)\n",
        "}\n",
        "print(greet(\"Alice\"))\n",
        "print(greet())"
      ],
      "metadata": {
        "colab": {
          "base_uri": "https://localhost:8080/"
        },
        "id": "ZDfk808bSzB-",
        "outputId": "8712c075-8b54-4751-bd31-1da79bd80d0f"
      },
      "execution_count": null,
      "outputs": [
        {
          "output_type": "stream",
          "name": "stdout",
          "text": [
            "[1] 8\n",
            "[1] \"Hello Alice\"\n",
            "[1] \"Hello friend\"\n"
          ]
        }
      ]
    },
    {
      "cell_type": "markdown",
      "source": [
        "#### return() – Return a value from a function\n"
      ],
      "metadata": {
        "id": "RAJmBvrOerOI"
      }
    },
    {
      "cell_type": "code",
      "source": [
        "# Example 1: A simple function that adds two numbers\n",
        "add_two <- function(a, b) {\n",
        "  return(a + b)\n",
        "}\n",
        "print(add_two(3, 5))\n",
        "\n",
        "# Example 2: Function with a default parameter\n",
        "greet <- function(name = \"friend\") {\n",
        "  paste(\"Hello\", name)\n",
        "}\n",
        "print(greet(\"Alice\"))\n",
        "print(greet())\n",
        "\n",
        "# (Used above in the add_two and greet functions)"
      ],
      "metadata": {
        "colab": {
          "base_uri": "https://localhost:8080/"
        },
        "id": "tTpJ_rO4eoA4",
        "outputId": "b56ff1f5-c038-46bb-fda3-e5c642470f0e"
      },
      "execution_count": null,
      "outputs": [
        {
          "output_type": "stream",
          "name": "stdout",
          "text": [
            "[1] 8\n",
            "[1] \"Hello Alice\"\n",
            "[1] \"Hello friend\"\n"
          ]
        }
      ]
    },
    {
      "cell_type": "markdown",
      "source": [
        "#### stop() – Stop execution and throw an error\n"
      ],
      "metadata": {
        "id": "zj175u7Qe7qQ"
      }
    },
    {
      "cell_type": "code",
      "source": [
        "# Example 1: Stop if an invalid condition is met inside a function\n",
        "check_positive <- function(x) {\n",
        "  if (x < 0) {\n",
        "    stop(\"x must be non-negative!\")\n",
        "  }\n",
        "  return(x)\n",
        "}\n",
        "# Uncomment the following line to see the error:\n",
        "# check_positive(-5)\n",
        "\n",
        "# Example 2: Stop execution manually\n",
        "# Uncomment the next line to stop the script:\n",
        "# stop(\"Manual stop here!\")"
      ],
      "metadata": {
        "id": "KZRMtp-Se9F3"
      },
      "execution_count": null,
      "outputs": []
    },
    {
      "cell_type": "markdown",
      "source": [
        "#### warning() – Show a warning message without stopping execution\n"
      ],
      "metadata": {
        "id": "9qoWRF1be_Zo"
      }
    },
    {
      "cell_type": "code",
      "source": [
        "# Example 1: Issue a warning if a value is too high\n",
        "warn_if_high <- function(x) {\n",
        "  if (x > 100) {\n",
        "    warning(\"x is very high!\")\n",
        "  }\n",
        "  return(x)\n",
        "}\n",
        "print(warn_if_high(150))\n",
        "print(warn_if_high(50))"
      ],
      "metadata": {
        "colab": {
          "base_uri": "https://localhost:8080/"
        },
        "id": "s-wDSLQTfB9g",
        "outputId": "9ba9cacd-1565-45d3-8f1c-0d69212a8853"
      },
      "execution_count": null,
      "outputs": [
        {
          "output_type": "stream",
          "name": "stderr",
          "text": [
            "Warning message in warn_if_high(150):\n",
            "“x is very high!”\n"
          ]
        },
        {
          "output_type": "stream",
          "name": "stdout",
          "text": [
            "[1] 150\n",
            "[1] 50\n"
          ]
        }
      ]
    },
    {
      "cell_type": "markdown",
      "source": [
        "#### try() – Try an expression and catch errors quietly\n"
      ],
      "metadata": {
        "id": "4ii__3z8fDNJ"
      }
    },
    {
      "cell_type": "code",
      "source": [
        "# Example 1: Try to take the square root of a negative number\n",
        "result_try1 <- try(sqrt(-1))\n",
        "print(result_try1)\n",
        "\n",
        "# Example 2: Try reading a non-existent variable\n",
        "result_try2 <- try(print(nonexistent_variable))\n",
        "print(result_try2)"
      ],
      "metadata": {
        "colab": {
          "base_uri": "https://localhost:8080/"
        },
        "id": "8McuzcQ-e6zY",
        "outputId": "40a068d6-b5b9-4779-f28c-a4ffa90c766f"
      },
      "execution_count": null,
      "outputs": [
        {
          "output_type": "stream",
          "name": "stderr",
          "text": [
            "Warning message in sqrt(-1):\n",
            "“NaNs produced”\n"
          ]
        },
        {
          "output_type": "stream",
          "name": "stdout",
          "text": [
            "[1] NaN\n",
            "Error in eval(expr, envir) : object 'nonexistent_variable' not found\n",
            "[1] \"Error in eval(expr, envir) : object 'nonexistent_variable' not found\\n\"\n",
            "attr(,\"class\")\n",
            "[1] \"try-error\"\n",
            "attr(,\"condition\")\n",
            "<simpleError in eval(expr, envir): object 'nonexistent_variable' not found>\n"
          ]
        }
      ]
    },
    {
      "cell_type": "markdown",
      "source": [
        "#### tryCatch() – Advanced error handling\n"
      ],
      "metadata": {
        "id": "kKybpxJzfHwA"
      }
    },
    {
      "cell_type": "code",
      "source": [
        "# Example 1: Use tryCatch to handle an error\n",
        "result_tc <- tryCatch({\n",
        "  log(\"a\")  # will cause an error\n",
        "}, error = function(e) {\n",
        "  \"An error occurred\"\n",
        "})\n",
        "print(result_tc)\n",
        "\n",
        "# Example 2: tryCatch with finally block\n",
        "result_tc2 <- tryCatch({\n",
        "  stop(\"Oops!\")\n",
        "}, error = function(e) {\n",
        "  \"Caught the error\"\n",
        "}, finally = {\n",
        "  cat(\"This is the cleanup code.\\n\")\n",
        "})\n",
        "print(result_tc2)"
      ],
      "metadata": {
        "colab": {
          "base_uri": "https://localhost:8080/"
        },
        "id": "LfCj7efLfFoQ",
        "outputId": "c715a697-3606-4073-a201-c8b97c8f185c"
      },
      "execution_count": null,
      "outputs": [
        {
          "output_type": "stream",
          "name": "stdout",
          "text": [
            "[1] \"An error occurred\"\n",
            "This is the cleanup code.\n",
            "[1] \"Caught the error\"\n"
          ]
        }
      ]
    },
    {
      "cell_type": "markdown",
      "source": [
        "\n",
        "#  Working with Files\n"
      ],
      "metadata": {
        "id": "NFLIr9UPfK0Q"
      }
    },
    {
      "cell_type": "markdown",
      "source": [
        "#### getwd() – Get current working directory\n"
      ],
      "metadata": {
        "id": "Y2lVbZEIfd9T"
      }
    },
    {
      "cell_type": "code",
      "source": [
        "# Example 1: Simply print the working directory\n",
        "wd1 <- getwd()\n",
        "print(wd1)\n",
        "\n",
        "# Example 2: Save and print working directory from a variable\n",
        "wd2 <- getwd()\n",
        "cat(\"Working directory is:\", wd2, \"\\n\")"
      ],
      "metadata": {
        "colab": {
          "base_uri": "https://localhost:8080/"
        },
        "id": "_p3vxoZbfftZ",
        "outputId": "19e89012-1f47-4cdf-a923-f3c17e97f81f"
      },
      "execution_count": null,
      "outputs": [
        {
          "output_type": "stream",
          "name": "stdout",
          "text": [
            "[1] \"/content\"\n",
            "Working directory is: /content \n"
          ]
        }
      ]
    },
    {
      "cell_type": "markdown",
      "source": [
        "#### setwd() – Set the working directory\n"
      ],
      "metadata": {
        "id": "CObg8fYVfd6y"
      }
    },
    {
      "cell_type": "code",
      "source": [
        "# (Be careful with this! It changes your folder for reading/writing files.)\n",
        "# Example 1: Change to a temporary directory (this should work safely)\n",
        "# setwd(tempdir())\n",
        "# cat(\"Now in temporary directory:\", getwd(), \"\\n\")\n",
        "\n",
        "# Example 2: Set back to original (if you saved it before)\n",
        "# original_wd <- \"your/original/path\"  # replace with your actual path\n",
        "# setwd(original_wd)"
      ],
      "metadata": {
        "id": "4quxbLa4fkAB"
      },
      "execution_count": null,
      "outputs": []
    },
    {
      "cell_type": "markdown",
      "source": [
        "#### list.files() – List files in a directory\n"
      ],
      "metadata": {
        "id": "UPZVxm_mfd4Z"
      }
    },
    {
      "cell_type": "code",
      "source": [
        "# Example 1: List files in current directory\n",
        "files1 <- list.files()\n",
        "print(files1)\n",
        "\n",
        "# Example 2: List files with a specific pattern (e.g., files ending with .R)\n",
        "files2 <- list.files(pattern = \"\\\\.R$\")\n",
        "print(files2)"
      ],
      "metadata": {
        "colab": {
          "base_uri": "https://localhost:8080/"
        },
        "id": "fOa5wIpPft2Y",
        "outputId": "bf0efc44-b898-46bc-fb6e-4427a401d2a6"
      },
      "execution_count": null,
      "outputs": [
        {
          "output_type": "stream",
          "name": "stdout",
          "text": [
            "[1] \"sample_data\"\n",
            "character(0)\n"
          ]
        }
      ]
    },
    {
      "cell_type": "markdown",
      "source": [
        "#### file.exists() – Check if a file exists\n"
      ],
      "metadata": {
        "id": "hCSRy7R2fd2L"
      }
    },
    {
      "cell_type": "code",
      "source": [
        "# Example 1: Check for a file named \"test.txt\"\n",
        "exists1 <- file.exists(\"test.txt\")\n",
        "print(exists1)\n",
        "\n",
        "# Example 2: Check multiple files at once\n",
        "exists2 <- file.exists(c(\"test.txt\", \"nonexistent.txt\"))\n",
        "print(exists2)"
      ],
      "metadata": {
        "colab": {
          "base_uri": "https://localhost:8080/"
        },
        "id": "eRANUY7KfxI5",
        "outputId": "c416b59e-bbf7-4afc-8fa9-6bbdf41093eb"
      },
      "execution_count": null,
      "outputs": [
        {
          "output_type": "stream",
          "name": "stdout",
          "text": [
            "[1] FALSE\n",
            "[1] FALSE FALSE\n"
          ]
        }
      ]
    },
    {
      "cell_type": "markdown",
      "source": [
        "#### file.remove() – Delete a file\n"
      ],
      "metadata": {
        "id": "qZgufuX9fdzv"
      }
    },
    {
      "cell_type": "code",
      "source": [
        "# Example 1: Create and then remove a temporary file\n",
        "temp_file <- tempfile(fileext = \".txt\")\n",
        "cat(\"Temporary content\", file = temp_file)\n",
        "removed1 <- file.remove(temp_file)\n",
        "print(removed1)\n",
        "\n",
        "# Example 2: Try removing a file that likely does not exist\n",
        "removed2 <- file.remove(\"no_file.txt\")\n",
        "print(removed2)"
      ],
      "metadata": {
        "colab": {
          "base_uri": "https://localhost:8080/"
        },
        "id": "SyHiOCxQf0hJ",
        "outputId": "75b6b2af-24a2-4f85-96f5-666ecd6f2c2a"
      },
      "execution_count": null,
      "outputs": [
        {
          "output_type": "stream",
          "name": "stdout",
          "text": [
            "[1] TRUE\n"
          ]
        },
        {
          "output_type": "stream",
          "name": "stderr",
          "text": [
            "Warning message in file.remove(\"no_file.txt\"):\n",
            "“cannot remove file 'no_file.txt', reason 'No such file or directory'”\n"
          ]
        },
        {
          "output_type": "stream",
          "name": "stdout",
          "text": [
            "[1] FALSE\n"
          ]
        }
      ]
    },
    {
      "cell_type": "markdown",
      "source": [
        "#### read.csv() – Read a CSV file\n"
      ],
      "metadata": {
        "id": "rS-jB4P0fduw"
      }
    },
    {
      "cell_type": "code",
      "source": [
        "# Example 1: Write a small CSV and read it back\n",
        "df_sample <- data.frame(Name = c(\"A\", \"B\"), Value = c(10, 20))\n",
        "temp_csv <- tempfile(fileext = \".csv\")\n",
        "write.csv(df_sample, temp_csv, row.names = FALSE)\n",
        "df_read1 <- read.csv(temp_csv)\n",
        "print(df_read1)\n",
        "\n",
        "# Example 2: Read CSV with header (default behavior)\n",
        "df_read2 <- read.csv(temp_csv, header = TRUE)\n",
        "print(df_read2)"
      ],
      "metadata": {
        "colab": {
          "base_uri": "https://localhost:8080/"
        },
        "id": "03LqwvUefJ0g",
        "outputId": "7932fef3-fad0-4846-ff7a-dbf4a76f6fd6"
      },
      "execution_count": null,
      "outputs": [
        {
          "output_type": "stream",
          "name": "stdout",
          "text": [
            "  Name Value\n",
            "1    A    10\n",
            "2    B    20\n",
            "  Name Value\n",
            "1    A    10\n",
            "2    B    20\n"
          ]
        }
      ]
    },
    {
      "cell_type": "markdown",
      "source": [
        "#### write.csv() – Write data to a CSV file\n"
      ],
      "metadata": {
        "id": "Dojb0QgQfdxW"
      }
    },
    {
      "cell_type": "code",
      "source": [
        "# Example 1: Write a data frame to CSV\n",
        "write.csv(df_sample, \"sample_output.csv\", row.names = TRUE)\n",
        "# Check if file exists afterward\n",
        "print(file.exists(\"sample_output.csv\"))\n",
        "\n",
        "# Example 2: Write CSV without row names\n",
        "write.csv(df_sample, \"sample_output2.csv\", row.names = FALSE)\n",
        "print(file.exists(\"sample_output2.csv\"))"
      ],
      "metadata": {
        "colab": {
          "base_uri": "https://localhost:8080/"
        },
        "id": "J-g4tmYvf5EQ",
        "outputId": "2095acb0-8a33-40c5-ca82-41e8b4987da0"
      },
      "execution_count": null,
      "outputs": [
        {
          "output_type": "stream",
          "name": "stdout",
          "text": [
            "[1] TRUE\n",
            "[1] TRUE\n"
          ]
        }
      ]
    },
    {
      "cell_type": "markdown",
      "source": [
        "#### read.table() – Read tabular data from a file\n"
      ],
      "metadata": {
        "id": "2iOMsmssgB0Y"
      }
    },
    {
      "cell_type": "code",
      "source": [
        "# Example 1: Create a text file and read it as table\n",
        "temp_txt <- tempfile(fileext = \".txt\")\n",
        "write(\"1 2 3\\n4 5 6\", file = temp_txt)\n",
        "table1 <- read.table(temp_txt)\n",
        "print(table1)\n",
        "\n",
        "# Example 2: Read table with a specified separator (space here)\n",
        "table2 <- read.table(temp_txt, sep = \" \")\n",
        "print(table2)"
      ],
      "metadata": {
        "colab": {
          "base_uri": "https://localhost:8080/"
        },
        "id": "SnASRv2Af-Lo",
        "outputId": "b7fb0050-1e33-4814-c9b0-7927c65e09c3"
      },
      "execution_count": null,
      "outputs": [
        {
          "output_type": "stream",
          "name": "stdout",
          "text": [
            "  V1 V2 V3\n",
            "1  1  2  3\n",
            "2  4  5  6\n",
            "  V1 V2 V3\n",
            "1  1  2  3\n",
            "2  4  5  6\n"
          ]
        }
      ]
    },
    {
      "cell_type": "markdown",
      "source": [
        "#### write.table() – Write data to a file in table format\n"
      ],
      "metadata": {
        "id": "YAs2c2pDgC2w"
      }
    },
    {
      "cell_type": "code",
      "source": [
        "# Example 1: Write a data frame to a text file\n",
        "write.table(df_sample, \"sample_table.txt\")\n",
        "print(file.exists(\"sample_table.txt\"))\n",
        "\n",
        "# Example 2: Write table with row names disabled\n",
        "write.table(df_sample, \"sample_table2.txt\", row.names = FALSE)\n",
        "print(file.exists(\"sample_table2.txt\"))"
      ],
      "metadata": {
        "colab": {
          "base_uri": "https://localhost:8080/"
        },
        "id": "mB34-necgAIg",
        "outputId": "9abc0b6a-28b1-4a87-a1ab-acd887430e98"
      },
      "execution_count": null,
      "outputs": [
        {
          "output_type": "stream",
          "name": "stdout",
          "text": [
            "[1] TRUE\n",
            "[1] TRUE\n"
          ]
        }
      ]
    },
    {
      "cell_type": "markdown",
      "source": [
        "#### saveRDS() – Save a single R object to a file\n"
      ],
      "metadata": {
        "id": "qJRspEG0gHwq"
      }
    },
    {
      "cell_type": "code",
      "source": [
        "# Example 1: Save a data frame as an RDS file\n",
        "saveRDS(df_sample, \"sample_data.rds\")\n",
        "print(file.exists(\"sample_data.rds\"))\n",
        "\n",
        "# Example 2: Save a vector as an RDS file\n",
        "saveRDS(c(1,2,3), \"sample_vector.rds\")\n",
        "print(file.exists(\"sample_vector.rds\"))"
      ],
      "metadata": {
        "colab": {
          "base_uri": "https://localhost:8080/"
        },
        "id": "cD62R9nof_yP",
        "outputId": "b7ba6c62-5130-4d1c-92b9-e12cc3c4f7c1"
      },
      "execution_count": null,
      "outputs": [
        {
          "output_type": "stream",
          "name": "stdout",
          "text": [
            "[1] TRUE\n",
            "[1] TRUE\n"
          ]
        }
      ]
    },
    {
      "cell_type": "markdown",
      "source": [
        "#### readRDS() – Read a single R object from an RDS file\n"
      ],
      "metadata": {
        "id": "JwYdaCavgLEf"
      }
    },
    {
      "cell_type": "code",
      "source": [
        "# Example 1: Read the previously saved data frame\n",
        "df_from_rds <- readRDS(\"sample_data.rds\")\n",
        "print(df_from_rds)\n",
        "\n",
        "# Example 2: Read the vector from the RDS file\n",
        "vec_from_rds <- readRDS(\"sample_vector.rds\")\n",
        "print(vec_from_rds)"
      ],
      "metadata": {
        "colab": {
          "base_uri": "https://localhost:8080/"
        },
        "id": "LuUaAm7rgHc3",
        "outputId": "9b026d3b-ae4e-4726-daf9-d33742c465cf"
      },
      "execution_count": null,
      "outputs": [
        {
          "output_type": "stream",
          "name": "stdout",
          "text": [
            "  Name Value\n",
            "1    A    10\n",
            "2    B    20\n",
            "[1] 1 2 3\n"
          ]
        }
      ]
    },
    {
      "cell_type": "markdown",
      "source": [
        "\n",
        "# Working with Factors\n"
      ],
      "metadata": {
        "id": "waHTNX39gOTP"
      }
    },
    {
      "cell_type": "markdown",
      "source": [
        "#### factor() – Create a factor variable\n"
      ],
      "metadata": {
        "id": "7aIfq19pgPGg"
      }
    },
    {
      "cell_type": "code",
      "source": [
        "# Example 1: Convert a character vector to a factor\n",
        "fact_a <- factor(c(\"low\", \"medium\", \"high\", \"medium\"))\n",
        "print(fact_a)\n",
        "\n"
      ],
      "metadata": {
        "colab": {
          "base_uri": "https://localhost:8080/"
        },
        "id": "pGIBvqwPgMlQ",
        "outputId": "f062e80a-726e-4dd9-aa25-3975bba1dd44"
      },
      "execution_count": 1,
      "outputs": [
        {
          "output_type": "stream",
          "name": "stdout",
          "text": [
            "[1] low    medium high   medium\n",
            "Levels: high low medium\n"
          ]
        }
      ]
    },
    {
      "cell_type": "markdown",
      "source": [
        "#### levels() – Get or set levels of a factor\n"
      ],
      "metadata": {
        "id": "I7gdlXGCgS_4"
      }
    },
    {
      "cell_type": "code",
      "source": [
        "# Example 1: Get levels of a factor\n",
        "levels_a <- levels(fact_a)\n",
        "print(levels_a)\n",
        "\n",
        "# Example 2: Change levels of a factor\n",
        "levels(fact_a) <- c(\"L\", \"M\", \"H\")\n",
        "print(fact_a)"
      ],
      "metadata": {
        "colab": {
          "base_uri": "https://localhost:8080/"
        },
        "id": "QHkJJHUkgRXx",
        "outputId": "4c895952-c7c3-4394-8ce4-411a0a473b00"
      },
      "execution_count": null,
      "outputs": [
        {
          "output_type": "stream",
          "name": "stdout",
          "text": [
            "[1] \"high\"   \"low\"    \"medium\"\n",
            "[1] M H L H\n",
            "Levels: L M H\n"
          ]
        }
      ]
    },
    {
      "cell_type": "markdown",
      "source": [
        "#### relevel() – Change the reference level of a factor\n"
      ],
      "metadata": {
        "id": "ZYKo4tt5gVH7"
      }
    },
    {
      "cell_type": "code",
      "source": [
        "# Example 1: Make \"blue\" the reference level\n",
        "fact_c <- factor(c(\"red\", \"blue\", \"red\", \"green\"))\n",
        "fact_c <- relevel(fact_c, ref = \"blue\")\n",
        "print(fact_c)\n",
        "\n",
        "# Example 2: Relevel with a different reference\n",
        "fact_d <- factor(c(\"A\", \"B\", \"C\", \"A\"))\n",
        "fact_d <- relevel(fact_d, ref = \"C\")\n",
        "print(fact_d)"
      ],
      "metadata": {
        "colab": {
          "base_uri": "https://localhost:8080/"
        },
        "id": "G11AG6b1gSxw",
        "outputId": "1a972837-6d26-46ba-e8d9-0fa2dbe64f04"
      },
      "execution_count": null,
      "outputs": [
        {
          "output_type": "stream",
          "name": "stdout",
          "text": [
            "[1] red   blue  red   green\n",
            "Levels: blue green red\n",
            "[1] A B C A\n",
            "Levels: C A B\n"
          ]
        }
      ]
    },
    {
      "cell_type": "markdown",
      "source": [
        "#### cut() – Divide numeric data into intervals (factors)\n"
      ],
      "metadata": {
        "id": "RdUwUK0fgYsE"
      }
    },
    {
      "cell_type": "code",
      "source": [
        "# Example 1: Cut numbers into equal-width bins\n",
        "nums <- c(1, 3, 5, 7, 9)\n",
        "cut1 <- cut(nums, breaks = 3)\n",
        "print(cut1)\n",
        "\n",
        "# Example 2: Cut with custom labels\n",
        "cut2 <- cut(nums, breaks = c(0, 4, 8, 10), labels = c(\"low\", \"medium\", \"high\"))\n",
        "print(cut2)"
      ],
      "metadata": {
        "colab": {
          "base_uri": "https://localhost:8080/"
        },
        "id": "bhMHfDfNgWnV",
        "outputId": "c935936d-cd19-40d8-c95e-79a22613566d"
      },
      "execution_count": null,
      "outputs": [
        {
          "output_type": "stream",
          "name": "stdout",
          "text": [
            "[1] (0.992,3.67] (0.992,3.67] (3.67,6.33]  (6.33,9.01]  (6.33,9.01] \n",
            "Levels: (0.992,3.67] (3.67,6.33] (6.33,9.01]\n",
            "[1] low    low    medium medium high  \n",
            "Levels: low medium high\n"
          ]
        }
      ]
    },
    {
      "cell_type": "markdown",
      "source": [
        "\n",
        "# Date & Time Handling\n"
      ],
      "metadata": {
        "id": "G1IKsW7ngZnx"
      }
    },
    {
      "cell_type": "markdown",
      "source": [
        "#### as.POSIXct() – Convert string to date-time (POSIXct)\n"
      ],
      "metadata": {
        "id": "FkpqwmMJgedo"
      }
    },
    {
      "cell_type": "code",
      "source": [
        "# Example 1: Convert a date-time string\n",
        "dt1 <- as.POSIXct(\"2025-02-03 12:34:56\")\n",
        "print(dt1)\n",
        "\n"
      ],
      "metadata": {
        "colab": {
          "base_uri": "https://localhost:8080/"
        },
        "id": "-Yb0e-CLgX-w",
        "outputId": "12e0444a-963d-4260-b5f4-3f6b493826b5"
      },
      "execution_count": 2,
      "outputs": [
        {
          "output_type": "stream",
          "name": "stdout",
          "text": [
            "[1] \"2025-02-03 12:34:56 UTC\"\n"
          ]
        }
      ]
    },
    {
      "cell_type": "markdown",
      "source": [
        "#### as.POSIXlt() – Convert string to list-like date-time (POSIXlt)\n"
      ],
      "metadata": {
        "id": "auxTrXH5gjbz"
      }
    },
    {
      "cell_type": "code",
      "source": [
        "# Example 1: Convert and see the list components\n",
        "dt_lt1 <- as.POSIXlt(\"2025-02-03 12:34:56\")\n",
        "print(dt_lt1)\n",
        "\n"
      ],
      "metadata": {
        "colab": {
          "base_uri": "https://localhost:8080/"
        },
        "id": "LOLUY3sVgeLT",
        "outputId": "931109b8-561e-4a87-cda3-07a01b146a4e"
      },
      "execution_count": 3,
      "outputs": [
        {
          "output_type": "stream",
          "name": "stdout",
          "text": [
            "[1] \"2025-02-03 12:34:56 UTC\"\n"
          ]
        }
      ]
    },
    {
      "cell_type": "markdown",
      "source": [
        "#### difftime() – Compute the difference between two date-time values\n"
      ],
      "metadata": {
        "id": "EV33qz-7gmVo"
      }
    },
    {
      "cell_type": "code",
      "source": [
        "# Example 1: Difference between two dates\n",
        "diff1 <- difftime(as.Date(\"2025-02-10\"), as.Date(\"2025-02-03\"))\n",
        "print(diff1)\n",
        "\n"
      ],
      "metadata": {
        "colab": {
          "base_uri": "https://localhost:8080/"
        },
        "id": "AQq8OQf9glsA",
        "outputId": "04c9e6e1-0f58-4898-a697-ed32b4e7d057"
      },
      "execution_count": 4,
      "outputs": [
        {
          "output_type": "stream",
          "name": "stdout",
          "text": [
            "Time difference of 7 days\n"
          ]
        }
      ]
    },
    {
      "cell_type": "markdown",
      "source": [
        "#### format() – Format date-time objects as strings\n"
      ],
      "metadata": {
        "id": "MK5p_ANGgqq4"
      }
    },
    {
      "cell_type": "code",
      "source": [
        "# Example 1: Format a date in a simple way\n",
        "fmt1 <- format(as.Date(\"2025-02-03\"), \"%B %d, %Y\")\n",
        "print(fmt1)\n",
        "\n"
      ],
      "metadata": {
        "colab": {
          "base_uri": "https://localhost:8080/"
        },
        "id": "7KDxNOFegoSg",
        "outputId": "756fe770-7c12-4b8c-97e5-cd9c4292402b"
      },
      "execution_count": 5,
      "outputs": [
        {
          "output_type": "stream",
          "name": "stdout",
          "text": [
            "[1] \"February 03, 2025\"\n"
          ]
        }
      ]
    },
    {
      "cell_type": "markdown",
      "source": [
        "\n",
        "# Debugging & Environment Management\n"
      ],
      "metadata": {
        "id": "yhKIV3sqgskp"
      }
    },
    {
      "cell_type": "markdown",
      "source": [
        "#### ls() – List objects in the environment\n"
      ],
      "metadata": {
        "id": "HnmwKUCOg0Md"
      }
    },
    {
      "cell_type": "code",
      "source": [
        "# Example 1: List all current objects\n",
        "objs1 <- ls()\n",
        "print(objs1)\n",
        "\n"
      ],
      "metadata": {
        "colab": {
          "base_uri": "https://localhost:8080/"
        },
        "id": "ix_qafc4gqZw",
        "outputId": "2c666e7d-b947-407d-c2d9-fccc24743054"
      },
      "execution_count": 6,
      "outputs": [
        {
          "output_type": "stream",
          "name": "stdout",
          "text": [
            "[1] \"diff1\"  \"dt_lt1\" \"dt1\"    \"fact_a\" \"fmt1\"  \n"
          ]
        }
      ]
    },
    {
      "cell_type": "markdown",
      "source": [
        "#### rm() – Remove objects from the environment\n"
      ],
      "metadata": {
        "id": "Zm6caAJgg7ak"
      }
    },
    {
      "cell_type": "code",
      "source": [
        "# Example 1: Remove a single variable\n",
        "temp_var <- 123\n",
        "print(temp_var)\n",
        "rm(temp_var)\n",
        "# Uncommenting the next line would cause an error since temp_var is removed:\n",
        "# print(temp_var)\n"
      ],
      "metadata": {
        "colab": {
          "base_uri": "https://localhost:8080/"
        },
        "id": "7puXoBBog2G4",
        "outputId": "9a9781c6-8cdc-4443-b33a-58c79a0be11b"
      },
      "execution_count": 7,
      "outputs": [
        {
          "output_type": "stream",
          "name": "stdout",
          "text": [
            "[1] 123\n"
          ]
        }
      ]
    },
    {
      "cell_type": "markdown",
      "source": [
        "#### gc() – Run garbage collection (free up memory)\n"
      ],
      "metadata": {
        "id": "uJheT4o7g9nC"
      }
    },
    {
      "cell_type": "code",
      "source": [
        "# Example 1: Run garbage collection and print result\n",
        "gc_result1 <- gc()\n",
        "print(gc_result1)\n",
        "\n"
      ],
      "metadata": {
        "colab": {
          "base_uri": "https://localhost:8080/"
        },
        "id": "G-9XG_Stg6pQ",
        "outputId": "49bcd461-a2cc-4ed6-b49f-e0afee9f0fbc"
      },
      "execution_count": 8,
      "outputs": [
        {
          "output_type": "stream",
          "name": "stdout",
          "text": [
            "          used (Mb) gc trigger (Mb) max used (Mb)\n",
            "Ncells  656448 35.1    1437941 76.8  1437941 76.8\n",
            "Vcells 1225887  9.4    8388608 64.0  1956779 15.0\n"
          ]
        }
      ]
    },
    {
      "cell_type": "markdown",
      "source": [
        "#### debug() – Turn on debugging for a function\n"
      ],
      "metadata": {
        "id": "cQk5W5PohAlB"
      }
    },
    {
      "cell_type": "code",
      "source": [
        "# Example 1: Define a simple function and set debug on it\n",
        "test_fun <- function(x) {\n",
        "  y <- x + 1\n",
        "  return(y)\n",
        "}\n",
        "debug(test_fun)\n",
        "# Uncomment the next line to step through the function:\n",
        "# test_fun(5)\n",
        "undebug(test_fun)  # Turn off debugging"
      ],
      "metadata": {
        "id": "Lj7Yy7jwg_6I"
      },
      "execution_count": null,
      "outputs": []
    },
    {
      "cell_type": "markdown",
      "source": [
        "#### traceback() – Show the call stack after an error\n"
      ],
      "metadata": {
        "id": "fqCgsgO_hF1J"
      }
    },
    {
      "cell_type": "code",
      "source": [
        "# Example 1: Force an error then show traceback\n",
        "error_fun <- function() {\n",
        "  stop(\"This is an error!\")\n",
        "}"
      ],
      "metadata": {
        "id": "FWpM9YMHhDdY"
      },
      "execution_count": 9,
      "outputs": []
    },
    {
      "cell_type": "markdown",
      "source": [
        "#### print() – Print output to the console\n"
      ],
      "metadata": {
        "id": "KZFh32_6hMkq"
      }
    },
    {
      "cell_type": "code",
      "source": [
        "# Example 1: Print a number\n",
        "print(100)\n",
        "\n",
        "# Example 2: Print a message\n",
        "print(\"Hello, world!\")\n",
        "\n",
        "# Extra example: Print a vector\n",
        "print(c(\"a\", \"b\", \"c\"))"
      ],
      "metadata": {
        "colab": {
          "base_uri": "https://localhost:8080/"
        },
        "id": "RZuQcPMRhFj-",
        "outputId": "1265db88-c1b9-4ffc-df2a-5482035743e2"
      },
      "execution_count": null,
      "outputs": [
        {
          "output_type": "stream",
          "name": "stdout",
          "text": [
            "[1] 100\n",
            "[1] \"Hello, world!\"\n",
            "[1] \"a\" \"b\" \"c\"\n"
          ]
        }
      ]
    },
    {
      "cell_type": "markdown",
      "source": [
        "#### cat() – Concatenate and print text (no quotes)\n"
      ],
      "metadata": {
        "id": "Iq-2r5XbhOTI"
      }
    },
    {
      "cell_type": "code",
      "source": [
        "# Example 1: Concatenate and print a simple message\n",
        "cat(\"This is a simple message.\\n\")\n",
        "\n",
        "# Example 2: Concatenate multiple pieces of text\n",
        "cat(\"The answer is\", 42, \"\\n\")\n",
        "# Extra example: Print without automatic newlines (you add \\n manually)\n",
        "cat(\"Line one.\\nLine two.\\n\")"
      ],
      "metadata": {
        "colab": {
          "base_uri": "https://localhost:8080/"
        },
        "id": "qkua2LIehLqg",
        "outputId": "49af8dd0-d4ee-498a-e571-7d1250c967d3"
      },
      "execution_count": null,
      "outputs": [
        {
          "output_type": "stream",
          "name": "stdout",
          "text": [
            "This is a simple message.\n",
            "The answer is 42 \n",
            "Line one.\n",
            "Line two.\n"
          ]
        }
      ]
    }
  ]
}