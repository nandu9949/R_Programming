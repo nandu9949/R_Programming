{
  "nbformat": 4,
  "nbformat_minor": 0,
  "metadata": {
    "colab": {
      "provenance": []
    },
    "kernelspec": {
      "name": "ir",
      "display_name": "R"
    },
    "language_info": {
      "name": "R"
    }
  },
  "cells": [
    {
      "cell_type": "markdown",
      "source": [
        "# R_Assignment_ll"
      ],
      "metadata": {
        "id": "OEt8gs5rp4e6"
      }
    },
    {
      "cell_type": "markdown",
      "source": [
        "Name :- Nanda Vardhan Reddy\n",
        "\n",
        "Reg.No :- 24040208001"
      ],
      "metadata": {
        "id": "bjKGdTc1qCxh"
      }
    },
    {
      "cell_type": "markdown",
      "source": [
        " 1. Check if a Variable is an Integer"
      ],
      "metadata": {
        "id": "1IjA9G1useri"
      }
    },
    {
      "cell_type": "code",
      "source": [
        "y <- 15.5\n",
        "if (is.integer(y)) {\n",
        "  print(\"y is an Integer\")\n",
        "} else {\n",
        "  print(\"y is not an Integer\")\n",
        "}\n",
        "# Assign a value to a variable and check its type"
      ],
      "metadata": {
        "colab": {
          "base_uri": "https://localhost:8080/"
        },
        "id": "nctdgXKdqO2C",
        "outputId": "96cb8bf9-ba90-46b5-f0b7-d634b6c9e1dc"
      },
      "execution_count": 1,
      "outputs": [
        {
          "output_type": "stream",
          "name": "stdout",
          "text": [
            "[1] \"y is not an Integer\"\n"
          ]
        }
      ]
    },
    {
      "cell_type": "markdown",
      "source": [
        "2. Simple Conditional Statement"
      ],
      "metadata": {
        "id": "sZTPSfCGsjb7"
      }
    },
    {
      "cell_type": "code",
      "source": [
        "if (-5 < 0) {\n",
        "  print(\"The number is negative\")\n",
        "}"
      ],
      "metadata": {
        "colab": {
          "base_uri": "https://localhost:8080/"
        },
        "id": "N5_UcCb8siuN",
        "outputId": "b8739b63-db47-438f-c7e6-ebec25b2bb2c"
      },
      "execution_count": 2,
      "outputs": [
        {
          "output_type": "stream",
          "name": "stdout",
          "text": [
            "[1] \"The number is negative\"\n"
          ]
        }
      ]
    },
    {
      "cell_type": "markdown",
      "source": [
        "3. Check for an Element in a Vector"
      ],
      "metadata": {
        "id": "DattUdkztKfd"
      }
    },
    {
      "cell_type": "code",
      "source": [
        "fruits <- c(\"apple\", \"banana\", \"cherry\")\n",
        "if (\"mango\" %in% fruits) {\n",
        "  print(\"Mango is found\")\n",
        "} else {\n",
        "  print(\"Mango is not found\")\n",
        "}"
      ],
      "metadata": {
        "colab": {
          "base_uri": "https://localhost:8080/"
        },
        "id": "jYL1RnzAtNaO",
        "outputId": "afb40a40-db0c-4abc-e142-cf16b8d20e3e"
      },
      "execution_count": 4,
      "outputs": [
        {
          "output_type": "stream",
          "name": "stdout",
          "text": [
            "[1] \"Mango is not found\"\n"
          ]
        }
      ]
    },
    {
      "cell_type": "markdown",
      "source": [
        "4: Nested Conditional Statements"
      ],
      "metadata": {
        "id": "tSBAfPzItqir"
      }
    },
    {
      "cell_type": "code",
      "source": [
        "animals <- c(\"cat\", \"dog\", \"rabbit\")\n",
        "if (\"rabbit\" %in% animals) {\n",
        "  print(\"Rabbit is found\")\n",
        "} else if (\"bird\" %in% animals) {\n",
        "  print(\"Bird is found\")\n",
        "} else {\n",
        "  print(\"No animal found\")\n",
        "}"
      ],
      "metadata": {
        "colab": {
          "base_uri": "https://localhost:8080/"
        },
        "id": "e9H4dwzutcgF",
        "outputId": "1eb8d392-b379-4b36-cc67-17ad58122a8c"
      },
      "execution_count": 5,
      "outputs": [
        {
          "output_type": "stream",
          "name": "stdout",
          "text": [
            "[1] \"Rabbit is found\"\n"
          ]
        }
      ]
    },
    {
      "cell_type": "markdown",
      "source": [
        "5: While Loop"
      ],
      "metadata": {
        "id": "SkLV_4zot0iS"
      }
    },
    {
      "cell_type": "code",
      "source": [
        "i <- 1\n",
        "while (i <= 4) {\n",
        "  print(i^2)\n",
        "  i <- i + 1\n",
        "}"
      ],
      "metadata": {
        "colab": {
          "base_uri": "https://localhost:8080/"
        },
        "id": "ZHL5D1Kit0BQ",
        "outputId": "babae161-dd66-473e-f206-c732cd9725cd"
      },
      "execution_count": 6,
      "outputs": [
        {
          "output_type": "stream",
          "name": "stdout",
          "text": [
            "[1] 1\n",
            "[1] 4\n",
            "[1] 9\n",
            "[1] 16\n"
          ]
        }
      ]
    },
    {
      "cell_type": "markdown",
      "source": [
        "6: Repeat Loop"
      ],
      "metadata": {
        "id": "RpFgYvEQuSEm"
      }
    },
    {
      "cell_type": "code",
      "source": [
        "\n",
        "i <- 1\n",
        "repeat {\n",
        "  print(3 * i)\n",
        "  i <- i + 1\n",
        "  if (i > 3) {\n",
        "    break\n",
        "  }\n",
        "}\n"
      ],
      "metadata": {
        "colab": {
          "base_uri": "https://localhost:8080/"
        },
        "id": "TiKj-pHeuFsp",
        "outputId": "7e57f7f6-447b-4a75-98aa-8ba59705f0e3"
      },
      "execution_count": 7,
      "outputs": [
        {
          "output_type": "stream",
          "name": "stdout",
          "text": [
            "[1] 3\n",
            "[1] 6\n",
            "[1] 9\n"
          ]
        }
      ]
    },
    {
      "cell_type": "code",
      "source": [
        "v <- c(\"Hello\", \"loop\")\n",
        "count <- 1\n",
        "repeat {\n",
        "  print(v)\n",
        "  count <- count + 1\n",
        "  if (count > 5) {\n",
        "  }\n",
        "}"
      ],
      "metadata": {
        "colab": {
          "base_uri": "https://localhost:8080/"
        },
        "id": "R5sZd5I5urZ1",
        "outputId": "e0e82a8b-8de7-4abb-ffa7-285d5c355578"
      },
      "execution_count": 8,
      "outputs": [
        {
          "output_type": "stream",
          "name": "stdout",
          "text": [
            "[1] \"Hello\" \"loop\" \n",
            "[1] \"Hello\" \"loop\" \n",
            "[1] \"Hello\" \"loop\" \n",
            "[1] \"Hello\" \"loop\" \n",
            "[1] \"Hello\" \"loop\" \n"
          ]
        }
      ]
    },
    {
      "cell_type": "markdown",
      "source": [
        "7: For Loop"
      ],
      "metadata": {
        "id": "Gg9ZSn5buvWl"
      }
    },
    {
      "cell_type": "code",
      "source": [
        "nums <- c(1, 2, 3, 4)  # Modified vector\n",
        "for (num in nums) {\n",
        "  print(num^3)  # Print the cube of the current number\n",
        "}"
      ],
      "metadata": {
        "colab": {
          "base_uri": "https://localhost:8080/"
        },
        "id": "oLXGLrgiut_Y",
        "outputId": "334ea566-b0f6-4173-a622-2c24c14c2c6b"
      },
      "execution_count": 9,
      "outputs": [
        {
          "output_type": "stream",
          "name": "stdout",
          "text": [
            "[1] 1\n",
            "[1] 8\n",
            "[1] 27\n",
            "[1] 64\n"
          ]
        }
      ]
    },
    {
      "cell_type": "code",
      "source": [
        "v <- LETTERS[1:4]\n",
        "for (i in v) {\n",
        "  print(i)\n",
        "}"
      ],
      "metadata": {
        "colab": {
          "base_uri": "https://localhost:8080/"
        },
        "id": "iP0z94uPvA89",
        "outputId": "8606fcdd-cc57-4aad-db13-ed36455a3963"
      },
      "execution_count": 10,
      "outputs": [
        {
          "output_type": "stream",
          "name": "stdout",
          "text": [
            "[1] \"A\"\n",
            "[1] \"B\"\n",
            "[1] \"C\"\n",
            "[1] \"D\"\n"
          ]
        }
      ]
    },
    {
      "cell_type": "code",
      "source": [
        "# For loop with a break statement\n",
        "for (i in 1:10) {\n",
        "  if (i == 5) {\n",
        "    break\n",
        "  }\n",
        "  print(i)\n",
        "}"
      ],
      "metadata": {
        "colab": {
          "base_uri": "https://localhost:8080/"
        },
        "id": "oXyWYq7_vHz8",
        "outputId": "482e3fb6-59a0-4495-a9b6-88005b0d5910"
      },
      "execution_count": 11,
      "outputs": [
        {
          "output_type": "stream",
          "name": "stdout",
          "text": [
            "[1] 1\n",
            "[1] 2\n",
            "[1] 3\n",
            "[1] 4\n"
          ]
        }
      ]
    },
    {
      "cell_type": "code",
      "source": [
        "# For loop with a next statement\n",
        "v <- LETTERS[1:6]\n",
        "for (i in v) {\n",
        "  if (i == \"D\") {\n",
        "    next\n",
        "  }\n",
        "  print(i)\n",
        "}"
      ],
      "metadata": {
        "colab": {
          "base_uri": "https://localhost:8080/"
        },
        "id": "fV86qjQPvaDa",
        "outputId": "ebba79a9-a1c1-45c2-f0e2-faef34da3afc"
      },
      "execution_count": 12,
      "outputs": [
        {
          "output_type": "stream",
          "name": "stdout",
          "text": [
            "[1] \"A\"\n",
            "[1] \"B\"\n",
            "[1] \"C\"\n",
            "[1] \"E\"\n",
            "[1] \"F\"\n"
          ]
        }
      ]
    },
    {
      "cell_type": "code",
      "source": [
        "# Check if a variable is less than, greater than, or equal to a new value\n",
        "x <- 15\n",
        "if (x < 15) {\n",
        "  print(\"x is less than 15\")\n",
        "} else if (x > 15) {\n",
        "  print(\"x is greater than 15\")\n",
        "} else {\n",
        "  print(\"x is equal to 15\")\n",
        "}\n"
      ],
      "metadata": {
        "colab": {
          "base_uri": "https://localhost:8080/"
        },
        "id": "353CvNLkvhKn",
        "outputId": "71c35e00-373d-4d32-a911-62b83e482966"
      },
      "execution_count": 13,
      "outputs": [
        {
          "output_type": "stream",
          "name": "stdout",
          "text": [
            "[1] \"x is equal to 15\"\n"
          ]
        }
      ]
    },
    {
      "cell_type": "code",
      "source": [
        "\n",
        "employees <- list(\"Aum\", \"Sri\", \"Sai\")\n",
        "for (employee in employees) {\n",
        "  print(employee)\n",
        "}\n"
      ],
      "metadata": {
        "colab": {
          "base_uri": "https://localhost:8080/"
        },
        "id": "_vTDn8yOwL4x",
        "outputId": "cb396126-a93f-40a6-8f28-815084737f2f"
      },
      "execution_count": 14,
      "outputs": [
        {
          "output_type": "stream",
          "name": "stdout",
          "text": [
            "[1] \"Aum\"\n",
            "[1] \"Sri\"\n",
            "[1] \"Sai\"\n"
          ]
        }
      ]
    },
    {
      "cell_type": "markdown",
      "source": [
        "8: Sequence of numbers"
      ],
      "metadata": {
        "id": "BfjWnUkIw7i9"
      }
    },
    {
      "cell_type": "code",
      "source": [
        "# Create a sequence of numbers from 5 to 15\n",
        "print(seq(5, 15))\n"
      ],
      "metadata": {
        "colab": {
          "base_uri": "https://localhost:8080/"
        },
        "id": "FZWWLkrJwW6L",
        "outputId": "05b7e495-ebf2-4746-ee92-3407e929dcc4"
      },
      "execution_count": 15,
      "outputs": [
        {
          "output_type": "stream",
          "name": "stdout",
          "text": [
            " [1]  5  6  7  8  9 10 11 12 13 14 15\n"
          ]
        }
      ]
    },
    {
      "cell_type": "code",
      "source": [
        "# Find the mean of numbers from 10 to 50\n",
        "print(mean(10:50))"
      ],
      "metadata": {
        "colab": {
          "base_uri": "https://localhost:8080/"
        },
        "id": "qPhl1SRlxGTO",
        "outputId": "e9356204-550f-42bb-c64d-aab64a63ccf2"
      },
      "execution_count": 16,
      "outputs": [
        {
          "output_type": "stream",
          "name": "stdout",
          "text": [
            "[1] 30\n"
          ]
        }
      ]
    },
    {
      "cell_type": "code",
      "source": [
        "# Find the sum of numbers from 1 to 10\n",
        "print(sum(1:10))"
      ],
      "metadata": {
        "colab": {
          "base_uri": "https://localhost:8080/"
        },
        "id": "SP9ZbQ7kxGeq",
        "outputId": "e28739f0-6c99-4813-c3d4-8163a65e9913"
      },
      "execution_count": 17,
      "outputs": [
        {
          "output_type": "stream",
          "name": "stdout",
          "text": [
            "[1] 55\n"
          ]
        }
      ]
    },
    {
      "cell_type": "markdown",
      "source": [
        " 9: Function Definition"
      ],
      "metadata": {
        "id": "YhjDfdBtVQK2"
      }
    },
    {
      "cell_type": "code",
      "source": [
        "factorial <- function(n) {\n",
        "  if (n == 0) {\n",
        "    return(1)\n",
        "  } else {\n",
        "    return(n * factorial(n - 1))\n",
        "  }\n",
        "}\n",
        "print(factorial(5))"
      ],
      "metadata": {
        "colab": {
          "base_uri": "https://localhost:8080/"
        },
        "id": "FRTENaOeVQz0",
        "outputId": "9da047d6-93b1-4345-a4a4-e89bb07800db"
      },
      "execution_count": 2,
      "outputs": [
        {
          "output_type": "stream",
          "name": "stdout",
          "text": [
            "[1] 120\n"
          ]
        }
      ]
    },
    {
      "cell_type": "markdown",
      "source": [
        "Function to Print Squares of Numbers"
      ],
      "metadata": {
        "id": "uE_na_hOki6w"
      }
    },
    {
      "cell_type": "code",
      "source": [
        "Square <- function(n) {\n",
        "  for (i in 1:n) {\n",
        "    print(i^2)\n",
        "  }\n",
        "}\n",
        "Square(7)\n",
        "# This program prints the squares of numbers from 1 to a given number.\n"
      ],
      "metadata": {
        "colab": {
          "base_uri": "https://localhost:8080/"
        },
        "id": "KRIrEP4SkYbn",
        "outputId": "7177c3e9-23aa-4ceb-b47c-26ac1070d7ea"
      },
      "execution_count": 3,
      "outputs": [
        {
          "output_type": "stream",
          "name": "stdout",
          "text": [
            "[1] 1\n",
            "[1] 4\n",
            "[1] 9\n",
            "[1] 16\n",
            "[1] 25\n",
            "[1] 36\n",
            "[1] 49\n"
          ]
        }
      ]
    },
    {
      "cell_type": "markdown",
      "source": [
        "Binomial Distribution"
      ],
      "metadata": {
        "id": "1DpUs2WCmfCp"
      }
    },
    {
      "cell_type": "code",
      "source": [
        "binomial_probability <- function(n, k, p) {\n",
        "  result <- dbinom(k, size = n, prob = p)\n",
        "  print(result)\n",
        "}\n",
        "binomial_probability(10, 3, 0.5)\n",
        "# This calculates the probability of getting exactly 3 successes in 10 trials with a success probability of 0.5."
      ],
      "metadata": {
        "colab": {
          "base_uri": "https://localhost:8080/"
        },
        "id": "MW0nd2fJmehH",
        "outputId": "f7f133b1-5797-49ee-c89c-3fcdd83cb176"
      },
      "execution_count": 9,
      "outputs": [
        {
          "output_type": "stream",
          "name": "stdout",
          "text": [
            "[1] 0.1171875\n"
          ]
        }
      ]
    },
    {
      "cell_type": "markdown",
      "source": [
        "Poisson Distribution"
      ],
      "metadata": {
        "id": "OdmehAc8mvXw"
      }
    },
    {
      "cell_type": "code",
      "source": [
        "poisson_probability <- function(k, lambda) {\n",
        "  result <- 1 - ppois(k, lambda = lambda)\n",
        "  print(result)\n",
        "}\n",
        "poisson_probability(2, 4)\n",
        "# This calculates the probability of observing more than 2 events when the mean rate is 4."
      ],
      "metadata": {
        "colab": {
          "base_uri": "https://localhost:8080/"
        },
        "id": "Z9VdBddhmnPv",
        "outputId": "f716a949-61f6-4a47-94b7-ab29bf4963ab"
      },
      "execution_count": 10,
      "outputs": [
        {
          "output_type": "stream",
          "name": "stdout",
          "text": [
            "[1] 0.7618967\n"
          ]
        }
      ]
    },
    {
      "cell_type": "markdown",
      "source": [
        " Function with Default Arguments"
      ],
      "metadata": {
        "id": "eyTqYNRAkna_"
      }
    },
    {
      "cell_type": "code",
      "source": [
        "default <- function(a = 4, b = 8) {\n",
        "  z <- a * b\n",
        "  print(z)\n",
        "}\n",
        "default()\n",
        "default(2, 9)\n",
        "# This program demonstrates the use of default arguments in a function.\n"
      ],
      "metadata": {
        "colab": {
          "base_uri": "https://localhost:8080/"
        },
        "id": "K3dsikcjkbMx",
        "outputId": "22886e93-936c-451e-f2d0-e3f1c554bd1f"
      },
      "execution_count": 4,
      "outputs": [
        {
          "output_type": "stream",
          "name": "stdout",
          "text": [
            "[1] 32\n",
            "[1] 18\n"
          ]
        }
      ]
    },
    {
      "cell_type": "markdown",
      "source": [
        " Lazy Evaluation in Functions"
      ],
      "metadata": {
        "id": "ekCeU0SDkurD"
      }
    },
    {
      "cell_type": "code",
      "source": [
        "new <- function(a, b = 1) {\n",
        "  print(a^3)\n",
        "  print(a)\n",
        "  print(b)\n",
        "}\n",
        "new(3)\n",
        "# This program shows how lazy evaluation works in R functions"
      ],
      "metadata": {
        "colab": {
          "base_uri": "https://localhost:8080/"
        },
        "id": "H6OMQcyVkfnU",
        "outputId": "e329311d-cc22-46db-e503-1a4dd09dc3a0"
      },
      "execution_count": 6,
      "outputs": [
        {
          "output_type": "stream",
          "name": "stdout",
          "text": [
            "[1] 27\n",
            "[1] 3\n",
            "[1] 1\n"
          ]
        }
      ]
    },
    {
      "cell_type": "markdown",
      "source": [
        "10.Strings in R"
      ],
      "metadata": {
        "id": "uoZBJ9ZZk39E"
      }
    },
    {
      "cell_type": "code",
      "source": [
        "a <- 'Start and end with single quote'\n",
        "b <- \"Start and end with double quotes\"\n",
        "c <- \"Single quote ' in between double quotes\"\n",
        "d <- 'Double quotes \" in between single quotes'\n",
        "print(a)\n",
        "print(b)\n",
        "print(c)\n",
        "print(d)\n",
        "# This program demonstrates different ways to handle strings in R\n"
      ],
      "metadata": {
        "colab": {
          "base_uri": "https://localhost:8080/"
        },
        "id": "3Sd1djy3k9nH",
        "outputId": "02a8f179-4dbb-40d1-855d-e9631df84652"
      },
      "execution_count": 7,
      "outputs": [
        {
          "output_type": "stream",
          "name": "stdout",
          "text": [
            "[1] \"Start and end with single quote\"\n",
            "[1] \"Start and end with double quotes\"\n",
            "[1] \"Single quote ' in between double quotes\"\n",
            "[1] \"Double quotes \\\" in between single quotes\"\n"
          ]
        }
      ]
    },
    {
      "cell_type": "markdown",
      "source": [
        " String Manipulations"
      ],
      "metadata": {
        "id": "9axHCA0vlD-4"
      }
    },
    {
      "cell_type": "code",
      "source": [
        "a <- \"Good\"\n",
        "b <- \"Morning\"\n",
        "c <- \"Everyone\"\n",
        "print(paste(a, b, c))\n",
        "print(paste(a, b, c, sep = \"_\"))\n",
        "print(paste(a, b, c, sep = \"\", collapse = \"\"))\n",
        "# This program demonstrates string concatenation and manipulation in R.\n"
      ],
      "metadata": {
        "colab": {
          "base_uri": "https://localhost:8080/"
        },
        "id": "7g0rHX5Rk_2h",
        "outputId": "91114fe3-b502-402c-d67c-23c3321bcdd4"
      },
      "execution_count": 8,
      "outputs": [
        {
          "output_type": "stream",
          "name": "stdout",
          "text": [
            "[1] \"Good Morning Everyone\"\n",
            "[1] \"Good_Morning_Everyone\"\n",
            "[1] \"GoodMorningEveryone\"\n"
          ]
        }
      ]
    },
    {
      "cell_type": "markdown",
      "source": [
        "Calculate the number of characters in a string"
      ],
      "metadata": {
        "id": "fn-kr3hcnSOv"
      }
    },
    {
      "cell_type": "code",
      "source": [
        "print(nchar(\"Big Data Analytics\"))\n",
        "# This calculates the number of characters in the string.\n"
      ],
      "metadata": {
        "colab": {
          "base_uri": "https://localhost:8080/"
        },
        "id": "6x95J8e8lstP",
        "outputId": "b5d6ff6c-8c4b-4579-a963-62e6bc0d0068"
      },
      "execution_count": 15,
      "outputs": [
        {
          "output_type": "stream",
          "name": "stdout",
          "text": [
            "[1] 18\n"
          ]
        }
      ]
    },
    {
      "cell_type": "markdown",
      "source": [
        "Convert a string to uppercase\n",
        "r\n",
        "Copy\n",
        "Edit\n"
      ],
      "metadata": {
        "id": "ozRiSjZcnXeI"
      }
    },
    {
      "cell_type": "code",
      "source": [
        "print(toupper(\"Big Data Analytics\"))\n",
        "# This converts the string to uppercase.\n"
      ],
      "metadata": {
        "colab": {
          "base_uri": "https://localhost:8080/"
        },
        "id": "2aSaSUqGnXwF",
        "outputId": "72cee96a-9f0f-4f6f-bfcf-ae341758240f"
      },
      "execution_count": 16,
      "outputs": [
        {
          "output_type": "stream",
          "name": "stdout",
          "text": [
            "[1] \"BIG DATA ANALYTICS\"\n"
          ]
        }
      ]
    },
    {
      "cell_type": "markdown",
      "source": [
        "Convert a string to lowercase\n",
        "r\n",
        "Copy\n",
        "Edit\n"
      ],
      "metadata": {
        "id": "q61b-_95nYFt"
      }
    },
    {
      "cell_type": "code",
      "source": [
        "print(tolower(\"Big Data Analytics\"))\n",
        "# This converts the string to lowercase.\n"
      ],
      "metadata": {
        "colab": {
          "base_uri": "https://localhost:8080/"
        },
        "id": "-kF29StnnYTk",
        "outputId": "270c7f73-b06b-4498-87a2-ca11256bee5c"
      },
      "execution_count": 17,
      "outputs": [
        {
          "output_type": "stream",
          "name": "stdout",
          "text": [
            "[1] \"big data analytics\"\n"
          ]
        }
      ]
    },
    {
      "cell_type": "markdown",
      "source": [
        "Extract a substring from a string\n",
        "r\n",
        "Copy\n",
        "Edit\n"
      ],
      "metadata": {
        "id": "NjxjrzF0nlWZ"
      }
    },
    {
      "cell_type": "code",
      "source": [
        "text <- \"Big Data Analytics\"\n",
        "print(substring(text, 11, 22))\n",
        "# This extracts a specific portion of the string.\n"
      ],
      "metadata": {
        "colab": {
          "base_uri": "https://localhost:8080/"
        },
        "id": "P3jyASNnnker",
        "outputId": "1363155e-2121-411c-9231-46f563b6edf7"
      },
      "execution_count": 18,
      "outputs": [
        {
          "output_type": "stream",
          "name": "stdout",
          "text": [
            "[1] \"nalytics\"\n"
          ]
        }
      ]
    },
    {
      "cell_type": "markdown",
      "source": [
        "12.\n",
        "Pie Chart"
      ],
      "metadata": {
        "id": "mp0cL7IBoFJ_"
      }
    },
    {
      "cell_type": "code",
      "source": [
        "sales <- c(300, 450, 150, 100)\n",
        "regions <- c(\"North\", \"South\", \"East\", \"West\")\n",
        "pie(sales, labels = regions, main = \"Sales Distribution by Region\")\n",
        "# This creates a pie chart for regional sales distribution.\n"
      ],
      "metadata": {
        "colab": {
          "base_uri": "https://localhost:8080/",
          "height": 437
        },
        "id": "k6f4jU2loKXr",
        "outputId": "27d88cc3-b1d4-40f2-a540-3765e1e2bdf1"
      },
      "execution_count": 19,
      "outputs": [
        {
          "output_type": "display_data",
          "data": {
            "text/plain": [
              "Plot with title “Sales Distribution by Region”"
            ],
            "image/png": "[encoded data removed]"
          },
          "metadata": {
            "image/png": {
              "width": 420,
              "height": 420
            }
          }
        }
      ]
    },
    {
      "cell_type": "markdown",
      "source": [
        "Bar Chart"
      ],
      "metadata": {
        "id": "wlaxgfHTokCj"
      }
    },
    {
      "cell_type": "code",
      "source": [
        "grades <- c(10, 15, 20, 25, 30)\n",
        "subjects <- c(\"Math\", \"Science\", \"English\", \"History\", \"Art\")\n",
        "barplot(grades, names.arg = subjects, col = \"blue\", main = \"Student Grades\", xlab = \"Subjects\", ylab = \"Grades\")\n",
        "# This creates a bar chart for student grades in different subjects.\n"
      ],
      "metadata": {
        "colab": {
          "base_uri": "https://localhost:8080/",
          "height": 437
        },
        "id": "TLvQnrNqokTU",
        "outputId": "ea03b47f-8913-4fba-928a-d7fa4efdf619"
      },
      "execution_count": 20,
      "outputs": [
        {
          "output_type": "display_data",
          "data": {
            "text/plain": [
              "Plot with title “Student Grades”"
            ],
            "image/png": "[encoded data removed]"
          },
          "metadata": {
            "image/png": {
              "width": 420,
              "height": 420
            }
          }
        }
      ]
    },
    {
      "cell_type": "markdown",
      "source": [
        "Boxplot"
      ],
      "metadata": {
        "id": "cX5VdM1voqrz"
      }
    },
    {
      "cell_type": "code",
      "source": [
        "exam_scores <- data.frame(\n",
        "  Exam1 = c(50, 60, 70, 80, 90),\n",
        "  Exam2 = c(55, 65, 75, 85, 95),\n",
        "  Exam3 = c(45, 75, 55, 85, 65)\n",
        ")\n",
        "boxplot(exam_scores, main = \"Boxplot of Exam Scores\", col = c(\"red\", \"green\", \"blue\"))\n",
        "# This creates a boxplot for scores across three exams.\n"
      ],
      "metadata": {
        "colab": {
          "base_uri": "https://localhost:8080/",
          "height": 437
        },
        "id": "8afBtva5oq34",
        "outputId": "ffc7c789-fc9c-4d0d-a18f-a3903e50b0e9"
      },
      "execution_count": 21,
      "outputs": [
        {
          "output_type": "display_data",
          "data": {
            "text/plain": [
              "Plot with title “Boxplot of Exam Scores”"
            ],
            "image/png": "[encoded data removed]"
          },
          "metadata": {
            "image/png": {
              "width": 420,
              "height": 420
            }
          }
        }
      ]
    },
    {
      "cell_type": "markdown",
      "source": [
        "Histogram"
      ],
      "metadata": {
        "id": "xKrS20J_owY3"
      }
    },
    {
      "cell_type": "code",
      "source": [
        "data <- rnorm(100, mean = 50, sd = 10)\n",
        "hist(data, breaks = 10, col = \"purple\", main = \"Histogram of Random Data\", xlab = \"Values\")\n",
        "# This creates a histogram for random normal data.\n"
      ],
      "metadata": {
        "colab": {
          "base_uri": "https://localhost:8080/",
          "height": 437
        },
        "id": "TVwblK9eowoF",
        "outputId": "31061407-5bce-4143-f982-a34f86b76c92"
      },
      "execution_count": 22,
      "outputs": [
        {
          "output_type": "display_data",
          "data": {
            "text/plain": [
              "Plot with title “Histogram of Random Data”"
            ],
            "image/png": "[encoded data removed]"
          },
          "metadata": {
            "image/png": {
              "width": 420,
              "height": 420
            }
          }
        }
      ]
    },
    {
      "cell_type": "markdown",
      "source": [
        "Line Chart"
      ],
      "metadata": {
        "id": "jWYCiNwPo2rn"
      }
    },
    {
      "cell_type": "code",
      "source": [
        "months <- c(\"Jan\", \"Feb\", \"Mar\", \"Apr\", \"May\", \"Jun\")\n",
        "temperatures <- c(30, 32, 35, 40, 45, 50)\n",
        "plot(temperatures, type = \"o\", col = \"blue\", main = \"Monthly Temperatures\", xlab = \"Month\", ylab = \"Temperature\", xaxt = \"n\")\n",
        "axis(1, at = 1:6, labels = months)\n",
        "# This creates a line chart for monthly temperature trends.\n"
      ],
      "metadata": {
        "colab": {
          "base_uri": "https://localhost:8080/",
          "height": 437
        },
        "id": "nFI6sbhQo25I",
        "outputId": "3816f0a2-c36f-42a3-fbdc-aa895e6fc356"
      },
      "execution_count": 23,
      "outputs": [
        {
          "output_type": "display_data",
          "data": {
            "text/plain": [
              "Plot with title “Monthly Temperatures”"
            ],
            "image/png": "[encoded data removed]"
          },
          "metadata": {
            "image/png": {
              "width": 420,
              "height": 420
            }
          }
        }
      ]
    },
    {
      "cell_type": "markdown",
      "source": [
        "Scatterplot"
      ],
      "metadata": {
        "id": "7DUKXnOno861"
      }
    },
    {
      "cell_type": "code",
      "source": [
        "height <- c(150, 160, 170, 180, 190)\n",
        "weight <- c(50, 60, 70, 80, 90)\n",
        "plot(height, weight, col = \"green\", pch = 19, main = \"Height vs Weight\", xlab = \"Height (cm)\", ylab = \"Weight (kg)\")\n",
        "# This creates a scatterplot for height versus weight data.\n"
      ],
      "metadata": {
        "colab": {
          "base_uri": "https://localhost:8080/",
          "height": 437
        },
        "id": "ODcOjXQ_o9He",
        "outputId": "a1a3af34-50c3-4a4f-a8bd-eeba54da4357"
      },
      "execution_count": 24,
      "outputs": [
        {
          "output_type": "display_data",
          "data": {
            "text/plain": [
              "Plot with title “Height vs Weight”"
            ],
            "image/png": "[encoded data removed]"
          },
          "metadata": {
            "image/png": {
              "width": 420,
              "height": 420
            }
          }
        }
      ]
    }
  ]
}